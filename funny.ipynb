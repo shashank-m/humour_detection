{
  "nbformat": 4,
  "nbformat_minor": 0,
  "metadata": {
    "colab": {
      "name": "funny.ipynb",
      "provenance": [],
      "collapsed_sections": [],
      "include_colab_link": true
    },
    "kernelspec": {
      "name": "python3",
      "display_name": "Python 3"
    },
    "accelerator": "GPU"
  },
  "cells": [
    {
      "cell_type": "markdown",
      "metadata": {
        "id": "view-in-github",
        "colab_type": "text"
      },
      "source": [
        "<a href=\"https://colab.research.google.com/github/shashank-m/humour_detection/blob/master/funny.ipynb\" target=\"_parent\"><img src=\"https://colab.research.google.com/assets/colab-badge.svg\" alt=\"Open In Colab\"/></a>"
      ]
    },
    {
      "cell_type": "code",
      "metadata": {
        "id": "RDg-4zou8TTH",
        "colab_type": "code",
        "colab": {}
      },
      "source": [
        "import pandas as pd\n",
        "import numpy as np\n",
        "import codecs\n",
        "from tqdm import tqdm\n",
        "import spacy"
      ],
      "execution_count": 0,
      "outputs": []
    },
    {
      "cell_type": "code",
      "metadata": {
        "id": "h9i160R9iq0S",
        "colab_type": "code",
        "outputId": "c516690f-8edc-4c6d-eca6-01b74b4097cd",
        "colab": {
          "base_uri": "https://localhost:8080/",
          "height": 122
        }
      },
      "source": [
        "from google.colab import drive\n",
        "drive.mount('/content/gdrive')"
      ],
      "execution_count": 2,
      "outputs": [
        {
          "output_type": "stream",
          "text": [
            "Go to this URL in a browser: https://accounts.google.com/o/oauth2/auth?client_id=947318989803-6bn6qk8qdgf4n4g3pfee6491hc0brc4i.apps.googleusercontent.com&redirect_uri=urn%3aietf%3awg%3aoauth%3a2.0%3aoob&response_type=code&scope=email%20https%3a%2f%2fwww.googleapis.com%2fauth%2fdocs.test%20https%3a%2f%2fwww.googleapis.com%2fauth%2fdrive%20https%3a%2f%2fwww.googleapis.com%2fauth%2fdrive.photos.readonly%20https%3a%2f%2fwww.googleapis.com%2fauth%2fpeopleapi.readonly\n",
            "\n",
            "Enter your authorization code:\n",
            "··········\n",
            "Mounted at /content/gdrive\n"
          ],
          "name": "stdout"
        }
      ]
    },
    {
      "cell_type": "code",
      "metadata": {
        "id": "_G-jlOpLjKGg",
        "colab_type": "code",
        "outputId": "d6316799-52fa-459b-ef3a-a6996e86a275",
        "colab": {
          "base_uri": "https://localhost:8080/",
          "height": 34
        }
      },
      "source": [
        "!ls /content/gdrive/'My Drive'/'Colab Notebooks'/humour/\n"
      ],
      "execution_count": 0,
      "outputs": [
        {
          "output_type": "stream",
          "text": [
            "funny.ipynb  funny.py  glove.6B.100d.txt  glove.6B.200d.txt  task-1\n"
          ],
          "name": "stdout"
        }
      ]
    },
    {
      "cell_type": "code",
      "metadata": {
        "id": "_wKpbyWXdjfK",
        "colab_type": "code",
        "colab": {
          "base_uri": "https://localhost:8080/",
          "height": 34
        },
        "outputId": "e236bc5d-d23f-443a-e544-b966bb7813f6"
      },
      "source": [
        "embeddings_index = {}\n",
        "f = codecs.open('/content/gdrive/My Drive/Colab Notebooks/humour/wiki.simple.vec', encoding='utf-8')\n",
        "for line in tqdm(f):\n",
        "    values = line.rstrip().rsplit(' ')\n",
        "    word = values[0]\n",
        "    coefs = np.asarray(values[1:], dtype='float32')\n",
        "#     torch_coefs=torch.from_numpy(coefs)\n",
        "    embeddings_index[word] = coefs\n",
        "    \n",
        "        \n",
        "f.close()"
      ],
      "execution_count": 7,
      "outputs": [
        {
          "output_type": "stream",
          "text": [
            "111052it [00:13, 8395.89it/s] \n"
          ],
          "name": "stderr"
        }
      ]
    },
    {
      "cell_type": "code",
      "metadata": {
        "id": "O3N5OuD7iSZx",
        "colab_type": "code",
        "outputId": "17906805-9086-4b0a-80e2-30e40d36f6dd",
        "colab": {
          "base_uri": "https://localhost:8080/",
          "height": 187
        }
      },
      "source": [
        "\n",
        "\n",
        "\n",
        "import pandas as  pd\n",
        "import numpy as np \n",
        "import time\n",
        "\n",
        "alpha=0\n",
        "df=pd.read_csv('/content/gdrive/My Drive/Colab Notebooks/humour/task-1/train.csv')\n",
        "print(df.describe())\n",
        "start=time.time()\n",
        "data_list=[]\n",
        "for row in df.itertuples():\n",
        "    score=row[-1]\n",
        "    new_word=row[3]\n",
        "    original_headline=row[2]\n",
        "    replaced_word=row[2].split('<')[1].split('>')[0].split('/')[0]\n",
        "    list_of_words=original_headline.split()\n",
        "    original_list_of_words=list_of_words\n",
        "    \n",
        "    for i,word in enumerate(list_of_words):\n",
        "        if(word[0]=='<' and word[-1]=='>'):\n",
        "            alpha=1\n",
        "            pos_of_replaced_word=i\n",
        "            break\n",
        "        if (word[0]=='<'and word[-1]!='>'):\n",
        "            alpha=-1\n",
        "            try:\n",
        "                token=i-1\n",
        "                pop_1=token+1   \n",
        "                break\n",
        "            except:\n",
        "                # word in beginning\n",
        "                pop_1=i \n",
        "                break\n",
        "    if alpha==1:\n",
        "        list_of_words[pos_of_replaced_word]=new_word\n",
        "    if alpha==-1:\n",
        "        list_of_words.remove(list_of_words[pop_1])\n",
        "        list_of_words.remove(list_of_words[pop_1])\n",
        "        list_of_words.insert(pop_1,new_word)\n",
        "           \n",
        "    edited_headline=' '.join(list_of_words)\n",
        "    \n",
        "    tup=(replaced_word,original_headline.split(),list_of_words,new_word,score)\n",
        "    data_list.append(tup)\n",
        "    \n",
        "    \n",
        "        \n",
        "\n",
        "print('Time taken is {} seconds'.format(time.time()-start))"
      ],
      "execution_count": 8,
      "outputs": [
        {
          "output_type": "stream",
          "text": [
            "                 id        grades    meanGrade\n",
            "count   9652.000000  9.652000e+03  9652.000000\n",
            "mean    7539.845213  2.048111e+11     0.935571\n",
            "std     4359.342192  8.211835e+12     0.583643\n",
            "min        1.000000  0.000000e+00     0.000000\n",
            "25%     3756.750000  1.110000e+04     0.400000\n",
            "50%     7510.500000  2.111000e+04     0.800000\n",
            "75%    11325.250000  3.210000e+04     1.400000\n",
            "max    15095.000000  3.333332e+14     3.000000\n",
            "Time taken is 0.06952667236328125 seconds\n"
          ],
          "name": "stdout"
        }
      ]
    },
    {
      "cell_type": "code",
      "metadata": {
        "id": "iijqai37eV0l",
        "colab_type": "code",
        "colab": {}
      },
      "source": [
        "tweet=[]\n",
        "scores=[]\n",
        "for tup in data_list:\n",
        "  t=[i.lower() for i in tup[2]]\n",
        "  listToStr = ' '.join([str(elem) for elem in t])\n",
        "  scores.append(tup[-1])\n",
        "  tweet.append(listToStr)"
      ],
      "execution_count": 0,
      "outputs": []
    },
    {
      "cell_type": "code",
      "metadata": {
        "id": "9FW-7IJAgW-z",
        "colab_type": "code",
        "colab": {
          "base_uri": "https://localhost:8080/",
          "height": 204
        },
        "outputId": "4dab9513-4ec0-430d-aa12-f4e48b7ced2b"
      },
      "source": [
        "data=list(zip(tweet,scores))\n",
        "df=pd.DataFrame(data,columns=['tweet','scores'])\n",
        "df.head()"
      ],
      "execution_count": 32,
      "outputs": [
        {
          "output_type": "execute_result",
          "data": {
            "text/html": [
              "<div>\n",
              "<style scoped>\n",
              "    .dataframe tbody tr th:only-of-type {\n",
              "        vertical-align: middle;\n",
              "    }\n",
              "\n",
              "    .dataframe tbody tr th {\n",
              "        vertical-align: top;\n",
              "    }\n",
              "\n",
              "    .dataframe thead th {\n",
              "        text-align: right;\n",
              "    }\n",
              "</style>\n",
              "<table border=\"1\" class=\"dataframe\">\n",
              "  <thead>\n",
              "    <tr style=\"text-align: right;\">\n",
              "      <th></th>\n",
              "      <th>tweet</th>\n",
              "      <th>scores</th>\n",
              "    </tr>\n",
              "  </thead>\n",
              "  <tbody>\n",
              "    <tr>\n",
              "      <th>0</th>\n",
              "      <td>france is ‘ hunting down its citizens who join...</td>\n",
              "      <td>0.2</td>\n",
              "    </tr>\n",
              "    <tr>\n",
              "      <th>1</th>\n",
              "      <td>pentagon claims 2,000 % increase in russian tr...</td>\n",
              "      <td>1.6</td>\n",
              "    </tr>\n",
              "    <tr>\n",
              "      <th>2</th>\n",
              "      <td>iceland pm calls snap vote as pedophile furor ...</td>\n",
              "      <td>1.0</td>\n",
              "    </tr>\n",
              "    <tr>\n",
              "      <th>3</th>\n",
              "      <td>in an apparent first , iran and israel slap ea...</td>\n",
              "      <td>0.4</td>\n",
              "    </tr>\n",
              "    <tr>\n",
              "      <th>4</th>\n",
              "      <td>trump was told weeks ago that flynn misled sch...</td>\n",
              "      <td>0.0</td>\n",
              "    </tr>\n",
              "  </tbody>\n",
              "</table>\n",
              "</div>"
            ],
            "text/plain": [
              "                                               tweet  scores\n",
              "0  france is ‘ hunting down its citizens who join...     0.2\n",
              "1  pentagon claims 2,000 % increase in russian tr...     1.6\n",
              "2  iceland pm calls snap vote as pedophile furor ...     1.0\n",
              "3  in an apparent first , iran and israel slap ea...     0.4\n",
              "4  trump was told weeks ago that flynn misled sch...     0.0"
            ]
          },
          "metadata": {
            "tags": []
          },
          "execution_count": 32
        }
      ]
    },
    {
      "cell_type": "code",
      "metadata": {
        "id": "HvYKfJ_8iJpM",
        "colab_type": "code",
        "colab": {}
      },
      "source": [
        "nlp=spacy.load('en_core_web_sm')"
      ],
      "execution_count": 0,
      "outputs": []
    },
    {
      "cell_type": "code",
      "metadata": {
        "id": "aqJVZW1fidrE",
        "colab_type": "code",
        "colab": {}
      },
      "source": [
        "def encode_word(token):\n",
        "    try:\n",
        "       return embeddings_index[token.text.lower()]\n",
        "    except:\n",
        "        return np.random.randn(300)\n",
        "        \n",
        "def encode_tweet(tweet):\n",
        "    tokenised=nlp(tweet)\n",
        "    l=list(map(encode_word,tokenised))\n",
        "    return np.stack(l,axis=0)"
      ],
      "execution_count": 0,
      "outputs": []
    },
    {
      "cell_type": "code",
      "metadata": {
        "id": "YuGwn-aVie_6",
        "colab_type": "code",
        "colab": {}
      },
      "source": [
        "df['encode']=df['tweet'].apply(encode_tweet)\n"
      ],
      "execution_count": 0,
      "outputs": []
    },
    {
      "cell_type": "code",
      "metadata": {
        "id": "B0_WcgR7jITt",
        "colab_type": "code",
        "colab": {}
      },
      "source": [
        "def sh(x):\n",
        "    return x.shape[0]"
      ],
      "execution_count": 0,
      "outputs": []
    },
    {
      "cell_type": "code",
      "metadata": {
        "id": "BzyKz-CpjTdz",
        "colab_type": "code",
        "colab": {
          "base_uri": "https://localhost:8080/",
          "height": 34
        },
        "outputId": "b526cc45-0a59-4d3b-a773-6a4f538bc1d7"
      },
      "source": [
        "max_seq_length=max(df['encode'].apply(sh))\n",
        "max_seq_length"
      ],
      "execution_count": 42,
      "outputs": [
        {
          "output_type": "execute_result",
          "data": {
            "text/plain": [
              "28"
            ]
          },
          "metadata": {
            "tags": []
          },
          "execution_count": 42
        }
      ]
    },
    {
      "cell_type": "code",
      "metadata": {
        "id": "W-7Th1WOjZsH",
        "colab_type": "code",
        "colab": {}
      },
      "source": [
        "def padding(arr):\n",
        "    seq_length=arr.shape[0]\n",
        "    dim=arr.shape[1]\n",
        "    zero_arrays=max_seq_length-seq_length\n",
        "    zero_array=np.zeros((zero_arrays,dim))\n",
        "    return np.concatenate((arr,zero_array),0)\n",
        "df['padded_encode']=df['encode'].apply(padding)"
      ],
      "execution_count": 0,
      "outputs": []
    },
    {
      "cell_type": "code",
      "metadata": {
        "id": "pqb2z_-UjgZz",
        "colab_type": "code",
        "colab": {}
      },
      "source": [
        "shuffled=np.random.permutation(df.shape[0])\n",
        "df.index=shuffled\n",
        "train_split=int(0.7*df.shape[0])\n",
        "X_train=df[:train_split]\n",
        "X_test=df[train_split:]\n",
        "\n",
        "val_split=int(X_test.shape[0]*0.5)\n",
        "X_val=X_test[:val_split]\n",
        "X_test=X_test[val_split:]\n",
        "\n",
        "y_train=X_train['scores']\n",
        "y_val=X_val['scores']\n",
        "y_test=X_test['scores']\n",
        "\n",
        "X_train=X_train['padded_encode']\n",
        "X_val=X_val['padded_encode']\n",
        "X_test=X_test['padded_encode']\n",
        "\n",
        "#convert series to array.\n",
        "def series_to_array(series):\n",
        "    return np.array(series.to_list())\n",
        "X_train=series_to_array(X_train)\n",
        "X_val=series_to_array(X_val)\n",
        "X_test=series_to_array(X_test)\n",
        "y_train=series_to_array(y_train)\n",
        "y_val=series_to_array(y_val)\n",
        "y_test=series_to_array(y_test)"
      ],
      "execution_count": 0,
      "outputs": []
    },
    {
      "cell_type": "code",
      "metadata": {
        "id": "Ea1DfHHEj4kG",
        "colab_type": "code",
        "colab": {
          "base_uri": "https://localhost:8080/",
          "height": 34
        },
        "outputId": "892b9065-1b24-4395-b510-445325748f57"
      },
      "source": [
        "import torch\n",
        "import torch.nn as nn\n",
        "from torch.autograd import Variable\n",
        "from torch.nn import functional as F\n",
        "from torch.utils.data import TensorDataset, DataLoader\n",
        "torch.manual_seed(1)"
      ],
      "execution_count": 48,
      "outputs": [
        {
          "output_type": "execute_result",
          "data": {
            "text/plain": [
              "<torch._C.Generator at 0x7f54061586f0>"
            ]
          },
          "metadata": {
            "tags": []
          },
          "execution_count": 48
        }
      ]
    },
    {
      "cell_type": "code",
      "metadata": {
        "id": "cR7bZ_Dfj51E",
        "colab_type": "code",
        "colab": {
          "base_uri": "https://localhost:8080/",
          "height": 34
        },
        "outputId": "78ae2845-d9f0-4040-af32-dbc2ce9f9910"
      },
      "source": [
        "is_cuda = torch.cuda.is_available()\n",
        "if is_cuda:\n",
        "    device = torch.device(\"cuda\")\n",
        "    print(\"GPU is available\")\n",
        "else:\n",
        "    device = torch.device(\"cpu\")\n",
        "    print(\"GPU not available, CPU used\")"
      ],
      "execution_count": 49,
      "outputs": [
        {
          "output_type": "stream",
          "text": [
            "GPU is available\n"
          ],
          "name": "stdout"
        }
      ]
    },
    {
      "cell_type": "code",
      "metadata": {
        "id": "R7UDJ4Uhj6VG",
        "colab_type": "code",
        "colab": {}
      },
      "source": [
        "batch_size=64\n",
        "train_data=TensorDataset(torch.from_numpy(X_train).float(),(torch.from_numpy(y_train)).float())\n",
        "train_loader=DataLoader(train_data,batch_size=batch_size,shuffle=True,drop_last=True)\n",
        "\n",
        "val_data=TensorDataset(torch.from_numpy(X_val).float(),(torch.from_numpy(y_val)).float())\n",
        "val_loader=DataLoader(val_data,batch_size=batch_size,shuffle=True,drop_last=True)\n",
        "\n",
        "test_data=TensorDataset(torch.from_numpy(X_test).float(),(torch.from_numpy(y_test)).float())\n",
        "test_loader=DataLoader(test_data,batch_size=batch_size,shuffle=True,drop_last=True)"
      ],
      "execution_count": 0,
      "outputs": []
    },
    {
      "cell_type": "code",
      "metadata": {
        "id": "MEgCkA7Tj62A",
        "colab_type": "code",
        "colab": {}
      },
      "source": [
        "# build lstm.\n",
        "class humour_model(nn.Module):\n",
        "  \n",
        "  \n",
        "  def __init__(self,input_dim,hidden_dim,n_layers,drop_prob=0.0):\n",
        "    torch.manual_seed(1)\n",
        "    super(humour_model, self).__init__()\n",
        "    self.input_dim=input_dim\n",
        "    self.hidden_dim=hidden_dim\n",
        "    self.n_layers=n_layers\n",
        "    \n",
        "    \n",
        "    # lstm layer.\n",
        "    # if n_layers==1:\n",
        "    #   drop_prob=0\n",
        "    self.lstm=nn.LSTM(self.input_dim,hidden_dim,n_layers,dropout=drop_prob,batch_first=True,bidirectional=True)\n",
        "    \n",
        "    # define a droput layer between fc layer and lstm output.\n",
        "    self.dropout=nn.Dropout(drop_prob)\n",
        "    \n",
        "    # final output/ final hidden state(hidden_state[0]) is passed through a fc layer to get desired output.\n",
        "    self.feed_forward=nn.Sequential(nn.Linear(hidden_dim,5),nn.ReLU(),nn.Linear(5,1),nn.Sigmoid())\n",
        "    # define multihead attention layer.\n",
        "    self.multihead_attn=nn.MultiheadAttention(hidden_dim, 10)\n",
        "    \n",
        "  def forward(self,x,hidden):\n",
        "\n",
        "    out,hidden=self.lstm(x,hidden)\n",
        "    # out,attn_weights=self.multihead_attn(out,out,out)\n",
        "    # out,attn_weights=self.multihead_attn(out,out,out)\n",
        "    # out,attn_weights=self.multihead_attn(out,out,out)\n",
        "    # out,attn_weights=self.multihead_attn(out,out,out)\n",
        "    # pass only final hidden state to feedforward network.\n",
        "    final_hidden=hidden[0].sum(axis=0)\n",
        "    # ff_input=out[:,-1,:]\n",
        "    # print(hidden[0].shape)\n",
        "    # return out\n",
        "    # print(ff_input.shape)\n",
        "    output=self.feed_forward(final_hidden)\n",
        "      \n",
        "    return output*3\n",
        "\n",
        "  def init_hidden(self, batch_size):\n",
        "      ''' Initializes hidden state '''\n",
        "      # Create two new tensors with sizes n_layers x batch_size x hidden_dim,\n",
        "      # initialized to zero, for hidden state and cell state of LSTM\n",
        "      weight = next(self.parameters()).data\n",
        "\n",
        "      if (is_cuda):\n",
        "          hidden = (weight.new(self.n_layers*2, batch_size, self.hidden_dim).zero_().cuda(),\n",
        "                weight.new(self.n_layers*2, batch_size, self.hidden_dim).zero_().cuda())\n",
        "      else:\n",
        "          hidden = (weight.new(self.n_layers*2, batch_size, self.hidden_dim).zero_(),\n",
        "                    weight.new(self.n_layers*2, batch_size, self.hidden_dim).zero_())\n",
        "\n",
        "      return hidden"
      ],
      "execution_count": 0,
      "outputs": []
    },
    {
      "cell_type": "code",
      "metadata": {
        "id": "98KdZY1OkMe3",
        "colab_type": "code",
        "colab": {
          "base_uri": "https://localhost:8080/",
          "height": 170
        },
        "outputId": "f5d5cf0c-cb24-46ad-e058-c5f736b9b90a"
      },
      "source": [
        "hidden_dim=100\n",
        "input_dim=X_train.shape[2]\n",
        "n_layers=1\n",
        "\n",
        "model=humour_model(input_dim,hidden_dim,n_layers)    \n",
        "print(next(model.parameters()))"
      ],
      "execution_count": 102,
      "outputs": [
        {
          "output_type": "stream",
          "text": [
            "Parameter containing:\n",
            "tensor([[ 0.0515, -0.0441, -0.0194,  ...,  0.0014, -0.0571, -0.0558],\n",
            "        [-0.0149, -0.0288,  0.0245,  ..., -0.0258, -0.0014,  0.0983],\n",
            "        [ 0.0672, -0.0074,  0.0980,  ...,  0.0823, -0.0242,  0.0036],\n",
            "        ...,\n",
            "        [ 0.0694,  0.0694,  0.0543,  ...,  0.0024, -0.0604, -0.0383],\n",
            "        [-0.0641, -0.0177, -0.0897,  ...,  0.0901,  0.0913, -0.0629],\n",
            "        [-0.0834, -0.0278,  0.0492,  ...,  0.0458,  0.0805,  0.0014]],\n",
            "       requires_grad=True)\n"
          ],
          "name": "stdout"
        }
      ]
    },
    {
      "cell_type": "code",
      "metadata": {
        "id": "h5T177mZkMVr",
        "colab_type": "code",
        "colab": {}
      },
      "source": [
        "\n",
        "lr=0.00001\n",
        "\n",
        "criterion = nn.MSELoss()\n",
        "optimizer = torch.optim.Adam(model.parameters(), lr=lr)\n",
        "scheduler=torch.optim.lr_scheduler.ExponentialLR(optimizer, gamma=2, last_epoch=-1)"
      ],
      "execution_count": 0,
      "outputs": []
    },
    {
      "cell_type": "code",
      "metadata": {
        "id": "u17KAvNAkMMH",
        "colab_type": "code",
        "colab": {
          "base_uri": "https://localhost:8080/",
          "height": 1000
        },
        "outputId": "05ae011d-a9e7-4ca3-e118-5a28702651a8"
      },
      "source": [
        "# training loop.\n",
        "import matplotlib.pyplot as plt\n",
        "epochs = 80\n",
        "counter = 0\n",
        "print_every = 100\n",
        "clip=5 # gradient clipping\n",
        "\n",
        "# move model to GPU, if available\n",
        "if(is_cuda):\n",
        "    model.cuda()\n",
        "\n",
        "model.train()\n",
        "x=[]\n",
        "y=[]\n",
        "y_train=[]\n",
        "for i in range(epochs):\n",
        "  h = model.init_hidden(batch_size)\n",
        "  \n",
        "  # train_losses=[]\n",
        "  for inputs, labels in train_loader:\n",
        "      counter += 1\n",
        "\n",
        "      if(is_cuda):\n",
        "          inputs, labels = inputs.cuda(), labels.cuda()\n",
        "\n",
        "      # Creating new variables for the hidden state, otherwise\n",
        "      # we'd backprop through the entire training history\n",
        "      h = tuple([each.data for each in h])\n",
        "      model.zero_grad()\n",
        "\n",
        "      # get the output from the model\n",
        "      output=model.forward(inputs,h)\n",
        "    \n",
        "      # calculate the loss and perform backprop\n",
        "      loss = torch.sqrt(criterion(output.squeeze(), labels))\n",
        "      loss.backward()\n",
        "      # train_losses.append(loss.item())\n",
        "\n",
        "      # `clip_grad_norm` helps prevent the exploding gradient problem in RNNs / LSTMs.\n",
        "      nn.utils.clip_grad_norm_(model.parameters(), clip)\n",
        "      optimizer.step()              \n",
        "  \n",
        "  # loss stats\n",
        "     \n",
        "      if counter % print_every == 0:\n",
        "          with torch.no_grad():\n",
        "            # Get validation loss\n",
        "            x.append(counter)\n",
        "            val_h = model.init_hidden(batch_size)\n",
        "            val_losses = []\n",
        "            model.eval() # putting model to test mode. \n",
        "            for inputs, labels in val_loader:\n",
        "\n",
        "                val_h = tuple([each.data for each in val_h])\n",
        "\n",
        "                if(is_cuda):\n",
        "                    inputs, labels = inputs.cuda(), labels.cuda()\n",
        "\n",
        "                output=model.forward(inputs,h)\n",
        "                \n",
        "                val_loss = torch.sqrt(criterion(output.squeeze(), labels))\n",
        "\n",
        "                val_losses.append(val_loss.item())\n",
        "\n",
        "            # bring model back to training mode. \n",
        "            print(\"Epoch: {}/{}...\".format(i+1, epochs),\n",
        "                  \"Step: {}...\".format(counter),\n",
        "                  \"Loss: {:.6f}...\".format(loss.item()),\n",
        "                  \"Val Loss: {:.6f}\".format(np.mean(val_losses)))\n",
        "            \n",
        "            y.append(np.mean(val_losses))\n",
        "            y_train.append(loss.item())\n",
        "          model.train() \n",
        "          # train_losses=[]\n",
        "  # if (i+1)%20==0:\n",
        "  #   scheduler.step()          \n",
        "\n",
        "plt.plot(x,y_train)\n",
        "plt.plot(x,y)\n",
        "plt.xlabel('No of mini batch passes')\n",
        "plt.ylabel('loss')\n",
        "plt.show()\n",
        "\n",
        "# plt.xlabel('No of mini batch passes')\n",
        "# plt.ylabel('Train loss')\n",
        "# plt.show()"
      ],
      "execution_count": 104,
      "outputs": [
        {
          "output_type": "stream",
          "text": [
            "Epoch: 1/80... Step: 100... Loss: 0.734432... Val Loss: 0.768579\n",
            "Epoch: 2/80... Step: 200... Loss: 0.781568... Val Loss: 0.752331\n",
            "Epoch: 3/80... Step: 300... Loss: 0.734841... Val Loss: 0.720240\n",
            "Epoch: 4/80... Step: 400... Loss: 0.706576... Val Loss: 0.692439\n",
            "Epoch: 5/80... Step: 500... Loss: 0.677023... Val Loss: 0.663427\n",
            "Epoch: 6/80... Step: 600... Loss: 0.568605... Val Loss: 0.640112\n",
            "Epoch: 7/80... Step: 700... Loss: 0.581038... Val Loss: 0.615783\n",
            "Epoch: 8/80... Step: 800... Loss: 0.620874... Val Loss: 0.610132\n",
            "Epoch: 9/80... Step: 900... Loss: 0.604765... Val Loss: 0.604669\n",
            "Epoch: 10/80... Step: 1000... Loss: 0.542595... Val Loss: 0.603445\n",
            "Epoch: 11/80... Step: 1100... Loss: 0.539726... Val Loss: 0.603996\n",
            "Epoch: 12/80... Step: 1200... Loss: 0.533958... Val Loss: 0.599377\n",
            "Epoch: 13/80... Step: 1300... Loss: 0.611854... Val Loss: 0.605619\n",
            "Epoch: 14/80... Step: 1400... Loss: 0.591223... Val Loss: 0.604499\n",
            "Epoch: 15/80... Step: 1500... Loss: 0.621359... Val Loss: 0.601526\n",
            "Epoch: 16/80... Step: 1600... Loss: 0.601832... Val Loss: 0.601313\n",
            "Epoch: 17/80... Step: 1700... Loss: 0.521541... Val Loss: 0.601474\n",
            "Epoch: 18/80... Step: 1800... Loss: 0.589193... Val Loss: 0.599391\n",
            "Epoch: 19/80... Step: 1900... Loss: 0.563223... Val Loss: 0.598632\n",
            "Epoch: 20/80... Step: 2000... Loss: 0.576959... Val Loss: 0.603050\n",
            "Epoch: 20/80... Step: 2100... Loss: 0.585207... Val Loss: 0.601888\n",
            "Epoch: 21/80... Step: 2200... Loss: 0.539890... Val Loss: 0.600196\n",
            "Epoch: 22/80... Step: 2300... Loss: 0.642833... Val Loss: 0.599546\n",
            "Epoch: 23/80... Step: 2400... Loss: 0.575078... Val Loss: 0.597332\n",
            "Epoch: 24/80... Step: 2500... Loss: 0.566287... Val Loss: 0.598570\n",
            "Epoch: 25/80... Step: 2600... Loss: 0.609737... Val Loss: 0.599482\n",
            "Epoch: 26/80... Step: 2700... Loss: 0.546705... Val Loss: 0.597970\n",
            "Epoch: 27/80... Step: 2800... Loss: 0.556803... Val Loss: 0.596340\n",
            "Epoch: 28/80... Step: 2900... Loss: 0.567951... Val Loss: 0.597562\n",
            "Epoch: 29/80... Step: 3000... Loss: 0.701387... Val Loss: 0.596611\n",
            "Epoch: 30/80... Step: 3100... Loss: 0.625139... Val Loss: 0.594481\n",
            "Epoch: 31/80... Step: 3200... Loss: 0.541848... Val Loss: 0.597918\n",
            "Epoch: 32/80... Step: 3300... Loss: 0.511398... Val Loss: 0.598832\n",
            "Epoch: 33/80... Step: 3400... Loss: 0.594597... Val Loss: 0.595330\n",
            "Epoch: 34/80... Step: 3500... Loss: 0.553050... Val Loss: 0.598549\n",
            "Epoch: 35/80... Step: 3600... Loss: 0.558324... Val Loss: 0.597012\n",
            "Epoch: 36/80... Step: 3700... Loss: 0.589602... Val Loss: 0.596966\n",
            "Epoch: 37/80... Step: 3800... Loss: 0.547693... Val Loss: 0.597589\n",
            "Epoch: 38/80... Step: 3900... Loss: 0.592693... Val Loss: 0.597382\n",
            "Epoch: 39/80... Step: 4000... Loss: 0.531578... Val Loss: 0.593633\n",
            "Epoch: 40/80... Step: 4100... Loss: 0.601209... Val Loss: 0.595361\n",
            "Epoch: 40/80... Step: 4200... Loss: 0.544978... Val Loss: 0.592476\n",
            "Epoch: 41/80... Step: 4300... Loss: 0.531847... Val Loss: 0.593427\n",
            "Epoch: 42/80... Step: 4400... Loss: 0.452236... Val Loss: 0.592850\n",
            "Epoch: 43/80... Step: 4500... Loss: 0.527169... Val Loss: 0.593968\n",
            "Epoch: 44/80... Step: 4600... Loss: 0.541579... Val Loss: 0.592798\n",
            "Epoch: 45/80... Step: 4700... Loss: 0.574791... Val Loss: 0.593636\n",
            "Epoch: 46/80... Step: 4800... Loss: 0.542458... Val Loss: 0.590904\n",
            "Epoch: 47/80... Step: 4900... Loss: 0.610970... Val Loss: 0.594143\n",
            "Epoch: 48/80... Step: 5000... Loss: 0.611920... Val Loss: 0.593327\n",
            "Epoch: 49/80... Step: 5100... Loss: 0.620989... Val Loss: 0.588892\n",
            "Epoch: 50/80... Step: 5200... Loss: 0.524595... Val Loss: 0.588092\n",
            "Epoch: 51/80... Step: 5300... Loss: 0.534178... Val Loss: 0.589796\n",
            "Epoch: 52/80... Step: 5400... Loss: 0.545183... Val Loss: 0.590086\n",
            "Epoch: 53/80... Step: 5500... Loss: 0.543160... Val Loss: 0.589343\n",
            "Epoch: 54/80... Step: 5600... Loss: 0.526231... Val Loss: 0.584137\n",
            "Epoch: 55/80... Step: 5700... Loss: 0.542848... Val Loss: 0.586378\n",
            "Epoch: 56/80... Step: 5800... Loss: 0.537734... Val Loss: 0.589131\n",
            "Epoch: 57/80... Step: 5900... Loss: 0.455947... Val Loss: 0.588959\n",
            "Epoch: 58/80... Step: 6000... Loss: 0.616988... Val Loss: 0.589123\n",
            "Epoch: 59/80... Step: 6100... Loss: 0.538394... Val Loss: 0.586124\n",
            "Epoch: 60/80... Step: 6200... Loss: 0.555737... Val Loss: 0.587715\n",
            "Epoch: 60/80... Step: 6300... Loss: 0.574263... Val Loss: 0.588986\n",
            "Epoch: 61/80... Step: 6400... Loss: 0.575079... Val Loss: 0.590377\n",
            "Epoch: 62/80... Step: 6500... Loss: 0.615481... Val Loss: 0.588151\n",
            "Epoch: 63/80... Step: 6600... Loss: 0.592905... Val Loss: 0.588800\n",
            "Epoch: 64/80... Step: 6700... Loss: 0.528536... Val Loss: 0.591391\n",
            "Epoch: 65/80... Step: 6800... Loss: 0.524506... Val Loss: 0.590142\n",
            "Epoch: 66/80... Step: 6900... Loss: 0.567566... Val Loss: 0.589406\n",
            "Epoch: 67/80... Step: 7000... Loss: 0.592720... Val Loss: 0.588576\n",
            "Epoch: 68/80... Step: 7100... Loss: 0.572000... Val Loss: 0.589457\n",
            "Epoch: 69/80... Step: 7200... Loss: 0.513848... Val Loss: 0.587731\n",
            "Epoch: 70/80... Step: 7300... Loss: 0.498862... Val Loss: 0.588397\n",
            "Epoch: 71/80... Step: 7400... Loss: 0.504877... Val Loss: 0.585822\n",
            "Epoch: 72/80... Step: 7500... Loss: 0.540337... Val Loss: 0.587935\n",
            "Epoch: 73/80... Step: 7600... Loss: 0.551331... Val Loss: 0.589739\n",
            "Epoch: 74/80... Step: 7700... Loss: 0.469750... Val Loss: 0.591402\n",
            "Epoch: 75/80... Step: 7800... Loss: 0.578056... Val Loss: 0.586701\n",
            "Epoch: 76/80... Step: 7900... Loss: 0.512336... Val Loss: 0.588871\n",
            "Epoch: 77/80... Step: 8000... Loss: 0.482819... Val Loss: 0.588154\n",
            "Epoch: 78/80... Step: 8100... Loss: 0.555771... Val Loss: 0.583797\n",
            "Epoch: 79/80... Step: 8200... Loss: 0.544530... Val Loss: 0.586678\n",
            "Epoch: 80/80... Step: 8300... Loss: 0.488664... Val Loss: 0.589691\n",
            "Epoch: 80/80... Step: 8400... Loss: 0.565039... Val Loss: 0.589554\n"
          ],
          "name": "stdout"
        },
        {
          "output_type": "display_data",
          "data": {
            "image/png": "[encoded data removed]",
            "text/plain": [
              "<Figure size 432x288 with 1 Axes>"
            ]
          },
          "metadata": {
            "tags": []
          }
        }
      ]
    },
    {
      "cell_type": "code",
      "metadata": {
        "id": "ODnUekiQj2s1",
        "colab_type": "code",
        "colab": {}
      },
      "source": [
        "# encode sentences.\n",
        "\n",
        "word_embeddings = {}\n",
        "f = open('/content/gdrive/My Drive/Colab Notebooks/humour/glove.6B.200d.txt', encoding='utf-8')\n",
        "for line in f:\n",
        "    values=line.split()\n",
        "    word=values[0]\n",
        "    embedding_for_word = np.asarray(values[1:], dtype='float64')\n",
        "    word_embeddings[word]=embedding_for_word\n",
        "    \n"
      ],
      "execution_count": 0,
      "outputs": []
    },
    {
      "cell_type": "code",
      "metadata": {
        "id": "jhZ-q6OP9_bl",
        "colab_type": "code",
        "colab": {}
      },
      "source": [
        "# can use fast Text for encoding."
      ],
      "execution_count": 0,
      "outputs": []
    },
    {
      "cell_type": "code",
      "metadata": {
        "id": "ZltmPYkxqFVM",
        "colab_type": "code",
        "outputId": "90620e07-92db-47a8-9127-0d9adc7ce077",
        "colab": {
          "base_uri": "https://localhost:8080/",
          "height": 34
        }
      },
      "source": [
        "\n",
        "import math\n",
        "\n",
        "# data format. replaced_word,original headline list,new headline list,new word.\n",
        "train=data_list[:math.floor(len(data_list)*0.8)]\n",
        "test=data_list[math.floor(len(data_list)*0.8):]\n",
        "\n",
        "def train_test_split(dataset):\n",
        "  train_sentences=[]\n",
        "\n",
        "  for data in dataset:\n",
        "    new_headline=data[2]\n",
        "    score=data[-1]\n",
        "    encoded_sentence=[]\n",
        "\n",
        "    # encode each edited headline\n",
        "    for word in new_headline:\n",
        "      try:\n",
        "        encoded_word=word_embeddings[word]\n",
        "        encoded_sentence.append(encoded_word)\n",
        "      except KeyError: # for out of vocabulary words.\n",
        "        encoded_word=np.random.randn(200)\n",
        "        encoded_sentence.append(encoded_word)\n",
        "\n",
        "    train_sentences.append((encoded_sentence,score))   \n",
        "\n",
        "  df=pd.DataFrame(train_sentences)\n",
        "  df.columns=['Encoded Sentence','Score']\n",
        "  X=df['Encoded Sentence']\n",
        "  Y=df['Score']\n",
        "  return X,Y\n",
        "X_train,Y_train=train_test_split(train)\n",
        "X_test,Y_test=train_test_split(test)\n",
        "\n",
        "\n",
        "type(X_train[0])\n",
        "  \n",
        " "
      ],
      "execution_count": 6,
      "outputs": [
        {
          "output_type": "execute_result",
          "data": {
            "text/plain": [
              "list"
            ]
          },
          "metadata": {
            "tags": []
          },
          "execution_count": 6
        }
      ]
    },
    {
      "cell_type": "code",
      "metadata": {
        "id": "Tqn3iSDDqYJW",
        "colab_type": "code",
        "colab": {}
      },
      "source": [
        "\n",
        "# pad sequences so that all sentences are of same length to pass into the lstm.\n",
        "# print(len(train[0][1]))\n",
        "def padding_zeros(X):\n",
        "  X_lengths=[ len(sentence) for sentence in X]\n",
        "  longest=max(X_lengths)\n",
        "  for i,encoded in enumerate(X):\n",
        "    length=len(encoded)\n",
        "    num_zero_arrays=longest-length\n",
        "    for zeros in range(num_zero_arrays):\n",
        "      X[i].append(np.zeros(200))\n",
        "  return X\n",
        "X_train=padding_zeros(X_train)\n",
        "X_test=padding_zeros(X_test)\n",
        "\n"
      ],
      "execution_count": 0,
      "outputs": []
    },
    {
      "cell_type": "code",
      "metadata": {
        "id": "AUMyPCdkSiXJ",
        "colab_type": "code",
        "colab": {}
      },
      "source": [
        "\n",
        "\n",
        "#convert series to array:\n",
        "def series_to_array(X,Y):\n",
        "  X_t=[]\n",
        "  for encoded in X:\n",
        "    arr=np.asarray(encoded)\n",
        "  #   arr=np.transpose(arr)\n",
        "    # arr is the 2d array with shape (max_seq_length,200). Each row is a glove vector of a word.\n",
        "    X_t.append(arr)\n",
        "\n",
        "  X_t=np.asarray(X_t)\n",
        "  Y_t=np.asarray(Y)\n",
        "  return X_t,Y_t\n",
        "X_train,Y_train=series_to_array(X_train,Y_train)\n",
        "X_test,Y_test=series_to_array(X_test,Y_test)\n",
        "\n",
        "# test_examples=X_test.shape[0]\n",
        "# X_val=X_test[:int(test_examples/2)]\n",
        "# Y_val=Y_test[:int(test_examples/2)]\n",
        "\n",
        "# X_TEST=X_test[int(test_examples/2):]\n",
        "# Y_TEST=Y_test[int(test_examples/2):]\n",
        "\n",
        "\n",
        "#X_t has m 200,max_seq_length arrays. where m is number of training examples.\n"
      ],
      "execution_count": 0,
      "outputs": []
    },
    {
      "cell_type": "code",
      "metadata": {
        "id": "x_4djDthZ6mF",
        "colab_type": "code",
        "outputId": "eb87b9df-24a9-4d17-e2c7-1cc3fb461d00",
        "colab": {
          "base_uri": "https://localhost:8080/",
          "height": 238
        }
      },
      "source": [
        "X_train[2]"
      ],
      "execution_count": 9,
      "outputs": [
        {
          "output_type": "execute_result",
          "data": {
            "text/plain": [
              "array([[ 0.32113353,  1.14505378,  0.30957626, ..., -1.60273788,\n",
              "        -0.38956148,  1.00945255],\n",
              "       [ 2.03731764,  0.89668316, -0.45883919, ..., -0.19710175,\n",
              "        -0.09189759, -0.67688449],\n",
              "       [-0.3403511 ,  1.09985559,  0.85322765, ..., -1.21212326,\n",
              "         0.34060308, -0.48923418],\n",
              "       ...,\n",
              "       [ 0.        ,  0.        ,  0.        , ...,  0.        ,\n",
              "         0.        ,  0.        ],\n",
              "       [ 0.        ,  0.        ,  0.        , ...,  0.        ,\n",
              "         0.        ,  0.        ],\n",
              "       [ 0.        ,  0.        ,  0.        , ...,  0.        ,\n",
              "         0.        ,  0.        ]])"
            ]
          },
          "metadata": {
            "tags": []
          },
          "execution_count": 9
        }
      ]
    }
  ]
}