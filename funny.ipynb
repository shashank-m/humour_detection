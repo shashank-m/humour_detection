{
  "nbformat": 4,
  "nbformat_minor": 0,
  "metadata": {
    "colab": {
      "name": "funny.ipynb",
      "provenance": [],
      "collapsed_sections": [],
      "include_colab_link": true
    },
    "kernelspec": {
      "name": "python3",
      "display_name": "Python 3"
    },
    "accelerator": "GPU"
  },
  "cells": [
    {
      "cell_type": "markdown",
      "metadata": {
        "id": "view-in-github",
        "colab_type": "text"
      },
      "source": [
        "<a href=\"https://colab.research.google.com/github/shashank-m/humour_detection/blob/master/funny.ipynb\" target=\"_parent\"><img src=\"https://colab.research.google.com/assets/colab-badge.svg\" alt=\"Open In Colab\"/></a>"
      ]
    },
    {
      "cell_type": "code",
      "metadata": {
        "id": "RDg-4zou8TTH",
        "colab_type": "code",
        "colab": {}
      },
      "source": [
        "import pandas as pd\n",
        "import numpy as np\n",
        "import codecs\n",
        "from tqdm import tqdm\n",
        "import spacy"
      ],
      "execution_count": 0,
      "outputs": []
    },
    {
      "cell_type": "code",
      "metadata": {
        "id": "h9i160R9iq0S",
        "colab_type": "code",
        "outputId": "63321328-6490-4704-ec66-ef16b1255051",
        "colab": {
          "base_uri": "https://localhost:8080/",
          "height": 122
        }
      },
      "source": [
        "from google.colab import drive\n",
        "drive.mount('/content/gdrive')"
      ],
      "execution_count": 2,
      "outputs": [
        {
          "output_type": "stream",
          "text": [
            "Go to this URL in a browser: https://accounts.google.com/o/oauth2/auth?client_id=947318989803-6bn6qk8qdgf4n4g3pfee6491hc0brc4i.apps.googleusercontent.com&redirect_uri=urn%3aietf%3awg%3aoauth%3a2.0%3aoob&response_type=code&scope=email%20https%3a%2f%2fwww.googleapis.com%2fauth%2fdocs.test%20https%3a%2f%2fwww.googleapis.com%2fauth%2fdrive%20https%3a%2f%2fwww.googleapis.com%2fauth%2fdrive.photos.readonly%20https%3a%2f%2fwww.googleapis.com%2fauth%2fpeopleapi.readonly\n",
            "\n",
            "Enter your authorization code:\n",
            "··········\n",
            "Mounted at /content/gdrive\n"
          ],
          "name": "stdout"
        }
      ]
    },
    {
      "cell_type": "code",
      "metadata": {
        "id": "_G-jlOpLjKGg",
        "colab_type": "code",
        "outputId": "d6316799-52fa-459b-ef3a-a6996e86a275",
        "colab": {
          "base_uri": "https://localhost:8080/",
          "height": 34
        }
      },
      "source": [
        "!ls /content/gdrive/'My Drive'/'Colab Notebooks'/humour/\n"
      ],
      "execution_count": 0,
      "outputs": [
        {
          "output_type": "stream",
          "text": [
            "funny.ipynb  funny.py  glove.6B.100d.txt  glove.6B.200d.txt  task-1\n"
          ],
          "name": "stdout"
        }
      ]
    },
    {
      "cell_type": "code",
      "metadata": {
        "id": "_wKpbyWXdjfK",
        "colab_type": "code",
        "colab": {
          "base_uri": "https://localhost:8080/",
          "height": 34
        },
        "outputId": "c59d5ef1-7617-4a52-ceba-45252d61ea5a"
      },
      "source": [
        "embeddings_index = {}\n",
        "#import pre trained fast text embeddings.\n",
        "f = codecs.open('/content/gdrive/My Drive/Colab Notebooks/humour/wiki.simple.vec', encoding='utf-8')\n",
        "for line in tqdm(f):\n",
        "    values = line.rstrip().rsplit(' ')\n",
        "    word = values[0]\n",
        "    coefs = np.asarray(values[1:], dtype='float32')\n",
        "#     torch_coefs=torch.from_numpy(coefs)\n",
        "    embeddings_index[word] = coefs\n",
        "    \n",
        "        \n",
        "f.close()"
      ],
      "execution_count": 3,
      "outputs": [
        {
          "output_type": "stream",
          "text": [
            "111052it [00:19, 5702.58it/s]\n"
          ],
          "name": "stderr"
        }
      ]
    },
    {
      "cell_type": "code",
      "metadata": {
        "id": "O3N5OuD7iSZx",
        "colab_type": "code",
        "outputId": "6d869987-0849-473c-cdea-b854ff7d943f",
        "colab": {
          "base_uri": "https://localhost:8080/",
          "height": 170
        }
      },
      "source": [
        "\n",
        "\n",
        "\n",
        "import pandas as  pd\n",
        "import numpy as np \n",
        "import time\n",
        "\n",
        "alpha=0\n",
        "df=pd.read_csv('/content/gdrive/My Drive/Colab Notebooks/humour/task-1/train.csv')\n",
        "print(df.head())\n",
        "start=time.time()\n",
        "data_list=[]\n",
        "# the below code block takes the new word and puts it in the original tweet to make it sound funny.\n",
        "for row in df.itertuples():\n",
        "    score=row[-1]\n",
        "    new_word=row[3]\n",
        "    original_headline=row[2]\n",
        "    replaced_word=row[2].split('<')[1].split('>')[0].split('/')[0]\n",
        "    list_of_words=original_headline.split()\n",
        "    original_list_of_words=list_of_words\n",
        "    \n",
        "    for i,word in enumerate(list_of_words):\n",
        "        if(word[0]=='<' and word[-1]=='>'):\n",
        "            alpha=1\n",
        "            pos_of_replaced_word=i\n",
        "            break\n",
        "        if (word[0]=='<'and word[-1]!='>'):\n",
        "            alpha=-1\n",
        "            try:\n",
        "                token=i-1\n",
        "                pop_1=token+1   \n",
        "                break\n",
        "            except:\n",
        "                # word in beginning\n",
        "                pop_1=i \n",
        "                break\n",
        "    if alpha==1:\n",
        "        list_of_words[pos_of_replaced_word]=new_word\n",
        "    if alpha==-1:\n",
        "        list_of_words.remove(list_of_words[pop_1])\n",
        "        list_of_words.remove(list_of_words[pop_1])\n",
        "        list_of_words.insert(pop_1,new_word)\n",
        "           \n",
        "    edited_headline=' '.join(list_of_words)\n",
        "    \n",
        "    tup=(replaced_word,original_headline.split(),list_of_words,new_word,score)\n",
        "    data_list.append(tup)\n",
        "    \n",
        "    \n",
        "        \n",
        "\n",
        "print('Time taken is {} seconds'.format(time.time()-start))"
      ],
      "execution_count": 8,
      "outputs": [
        {
          "output_type": "stream",
          "text": [
            "      id                                           original  ... grades  meanGrade\n",
            "0  14530  France is ‘ hunting down its citizens who join...  ...  10000        0.2\n",
            "1  13034  Pentagon claims 2,000 % increase in Russian tr...  ...  33110        1.6\n",
            "2   8731  Iceland PM Calls Snap Vote as Pedophile Furor ...  ...  22100        1.0\n",
            "3     76  In an apparent first , Iran and Israel <engage...  ...  20000        0.4\n",
            "4   6164  Trump was told weeks ago that Flynn misled <Vi...  ...      0        0.0\n",
            "\n",
            "[5 rows x 5 columns]\n",
            "Time taken is 0.07718777656555176 seconds\n"
          ],
          "name": "stdout"
        }
      ]
    },
    {
      "cell_type": "code",
      "metadata": {
        "id": "iijqai37eV0l",
        "colab_type": "code",
        "colab": {}
      },
      "source": [
        "tweet=[]\n",
        "scores=[]\n",
        "for tup in data_list:\n",
        "  t=[i.lower() for i in tup[2]]\n",
        "  listToStr = ' '.join([str(elem) for elem in t])\n",
        "  scores.append(tup[-1])\n",
        "  tweet.append(listToStr)"
      ],
      "execution_count": 0,
      "outputs": []
    },
    {
      "cell_type": "code",
      "metadata": {
        "id": "9FW-7IJAgW-z",
        "colab_type": "code",
        "colab": {
          "base_uri": "https://localhost:8080/",
          "height": 204
        },
        "outputId": "a0d6bd52-b03b-4d48-daef-26c41d45f7ae"
      },
      "source": [
        "data=list(zip(tweet,scores))\n",
        "df=pd.DataFrame(data,columns=['tweet','scores'])\n",
        "df.head()"
      ],
      "execution_count": 10,
      "outputs": [
        {
          "output_type": "execute_result",
          "data": {
            "text/html": [
              "<div>\n",
              "<style scoped>\n",
              "    .dataframe tbody tr th:only-of-type {\n",
              "        vertical-align: middle;\n",
              "    }\n",
              "\n",
              "    .dataframe tbody tr th {\n",
              "        vertical-align: top;\n",
              "    }\n",
              "\n",
              "    .dataframe thead th {\n",
              "        text-align: right;\n",
              "    }\n",
              "</style>\n",
              "<table border=\"1\" class=\"dataframe\">\n",
              "  <thead>\n",
              "    <tr style=\"text-align: right;\">\n",
              "      <th></th>\n",
              "      <th>tweet</th>\n",
              "      <th>scores</th>\n",
              "    </tr>\n",
              "  </thead>\n",
              "  <tbody>\n",
              "    <tr>\n",
              "      <th>0</th>\n",
              "      <td>france is ‘ hunting down its citizens who join...</td>\n",
              "      <td>0.2</td>\n",
              "    </tr>\n",
              "    <tr>\n",
              "      <th>1</th>\n",
              "      <td>pentagon claims 2,000 % increase in russian tr...</td>\n",
              "      <td>1.6</td>\n",
              "    </tr>\n",
              "    <tr>\n",
              "      <th>2</th>\n",
              "      <td>iceland pm calls snap vote as pedophile furor ...</td>\n",
              "      <td>1.0</td>\n",
              "    </tr>\n",
              "    <tr>\n",
              "      <th>3</th>\n",
              "      <td>in an apparent first , iran and israel slap ea...</td>\n",
              "      <td>0.4</td>\n",
              "    </tr>\n",
              "    <tr>\n",
              "      <th>4</th>\n",
              "      <td>trump was told weeks ago that flynn misled sch...</td>\n",
              "      <td>0.0</td>\n",
              "    </tr>\n",
              "  </tbody>\n",
              "</table>\n",
              "</div>"
            ],
            "text/plain": [
              "                                               tweet  scores\n",
              "0  france is ‘ hunting down its citizens who join...     0.2\n",
              "1  pentagon claims 2,000 % increase in russian tr...     1.6\n",
              "2  iceland pm calls snap vote as pedophile furor ...     1.0\n",
              "3  in an apparent first , iran and israel slap ea...     0.4\n",
              "4  trump was told weeks ago that flynn misled sch...     0.0"
            ]
          },
          "metadata": {
            "tags": []
          },
          "execution_count": 10
        }
      ]
    },
    {
      "cell_type": "code",
      "metadata": {
        "id": "HvYKfJ_8iJpM",
        "colab_type": "code",
        "colab": {}
      },
      "source": [
        "nlp=spacy.load('en_core_web_sm')"
      ],
      "execution_count": 0,
      "outputs": []
    },
    {
      "cell_type": "code",
      "metadata": {
        "id": "aqJVZW1fidrE",
        "colab_type": "code",
        "colab": {}
      },
      "source": [
        "def encode_word(token):\n",
        "    try:\n",
        "       return embeddings_index[token.text.lower()]\n",
        "    except:\n",
        "        \"\"\"\n",
        "        for the case where the embedding for the word doesn't \n",
        "        exist in the fast text pretrained file. \n",
        "        \"\"\"\n",
        "        return np.random.randn(300)\n",
        "        \n",
        "def encode_tweet(tweet):\n",
        "    tokenised=nlp(tweet)\n",
        "    l=list(map(encode_word,tokenised))\n",
        "    return np.stack(l,axis=0)"
      ],
      "execution_count": 0,
      "outputs": []
    },
    {
      "cell_type": "code",
      "metadata": {
        "id": "YuGwn-aVie_6",
        "colab_type": "code",
        "colab": {}
      },
      "source": [
        "df['encode']=df['tweet'].apply(encode_tweet)\n"
      ],
      "execution_count": 0,
      "outputs": []
    },
    {
      "cell_type": "code",
      "metadata": {
        "id": "B0_WcgR7jITt",
        "colab_type": "code",
        "colab": {}
      },
      "source": [
        "def sh(x):\n",
        "    return x.shape[0]"
      ],
      "execution_count": 0,
      "outputs": []
    },
    {
      "cell_type": "code",
      "metadata": {
        "id": "BzyKz-CpjTdz",
        "colab_type": "code",
        "colab": {
          "base_uri": "https://localhost:8080/",
          "height": 34
        },
        "outputId": "15bb175b-5799-4ffe-c383-7f1d24274821"
      },
      "source": [
        "max_seq_length=max(df['encode'].apply(sh))\n",
        "max_seq_length"
      ],
      "execution_count": 15,
      "outputs": [
        {
          "output_type": "execute_result",
          "data": {
            "text/plain": [
              "28"
            ]
          },
          "metadata": {
            "tags": []
          },
          "execution_count": 15
        }
      ]
    },
    {
      "cell_type": "code",
      "metadata": {
        "id": "W-7Th1WOjZsH",
        "colab_type": "code",
        "colab": {}
      },
      "source": [
        "def padding(arr):\n",
        "    \"\"\"\n",
        "    pad the vecotrs so that all examples in the dataset have same seq length \n",
        "    (equal to max seq length in dataset)\n",
        "    \"\"\"\n",
        "    seq_length=arr.shape[0]\n",
        "    dim=arr.shape[1]\n",
        "    zero_arrays=max_seq_length-seq_length\n",
        "    zero_array=np.zeros((zero_arrays,dim))\n",
        "    return np.concatenate((arr,zero_array),0)\n",
        "df['padded_encode']=df['encode'].apply(padding)"
      ],
      "execution_count": 0,
      "outputs": []
    },
    {
      "cell_type": "code",
      "metadata": {
        "id": "pqb2z_-UjgZz",
        "colab_type": "code",
        "colab": {}
      },
      "source": [
        "np.random.seed(1)# seed to get the same shuffled dataset everytime.\n",
        "shuffled=np.random.permutation(df.shape[0])\n",
        "df.index=shuffled\n",
        "train_split=int(0.7*df.shape[0])\n",
        "X_train=df[:train_split]\n",
        "X_test=df[train_split:]\n",
        "\n",
        "val_split=int(X_test.shape[0]*0.5)\n",
        "X_val=X_test[:val_split]\n",
        "X_test=X_test[val_split:]\n",
        "\n",
        "y_train=X_train['scores']\n",
        "y_val=X_val['scores']\n",
        "y_test=X_test['scores']\n",
        "\n",
        "X_train=X_train['padded_encode']\n",
        "X_val=X_val['padded_encode']\n",
        "X_test=X_test['padded_encode']\n",
        "\n",
        "#convert series to array.\n",
        "def series_to_array(series):\n",
        "    return np.array(series.to_list())\n",
        "X_train=series_to_array(X_train)\n",
        "X_val=series_to_array(X_val)\n",
        "X_test=series_to_array(X_test)\n",
        "y_train=series_to_array(y_train)\n",
        "y_val=series_to_array(y_val)\n",
        "y_test=series_to_array(y_test)"
      ],
      "execution_count": 0,
      "outputs": []
    },
    {
      "cell_type": "code",
      "metadata": {
        "id": "Ea1DfHHEj4kG",
        "colab_type": "code",
        "colab": {
          "base_uri": "https://localhost:8080/",
          "height": 34
        },
        "outputId": "01565bef-49d0-4150-d350-fe038c58f07f"
      },
      "source": [
        "import torch\n",
        "import torch.nn as nn\n",
        "from torch.autograd import Variable\n",
        "from torch.nn import functional as F\n",
        "from torch.utils.data import TensorDataset, DataLoader\n",
        "torch.manual_seed(1)"
      ],
      "execution_count": 18,
      "outputs": [
        {
          "output_type": "execute_result",
          "data": {
            "text/plain": [
              "<torch._C.Generator at 0x7f43633667b0>"
            ]
          },
          "metadata": {
            "tags": []
          },
          "execution_count": 18
        }
      ]
    },
    {
      "cell_type": "code",
      "metadata": {
        "id": "cR7bZ_Dfj51E",
        "colab_type": "code",
        "colab": {
          "base_uri": "https://localhost:8080/",
          "height": 34
        },
        "outputId": "a2d6582d-05c3-49d0-e659-657b02f24d59"
      },
      "source": [
        "is_cuda = torch.cuda.is_available()\n",
        "if is_cuda:\n",
        "    device = torch.device(\"cuda\")\n",
        "    print(\"GPU is available\")\n",
        "else:\n",
        "    device = torch.device(\"cpu\")\n",
        "    print(\"GPU not available, CPU used\")"
      ],
      "execution_count": 19,
      "outputs": [
        {
          "output_type": "stream",
          "text": [
            "GPU is available\n"
          ],
          "name": "stdout"
        }
      ]
    },
    {
      "cell_type": "code",
      "metadata": {
        "id": "R7UDJ4Uhj6VG",
        "colab_type": "code",
        "colab": {}
      },
      "source": [
        "batch_size=64\n",
        "train_data=TensorDataset(torch.from_numpy(X_train).float(),(torch.from_numpy(y_train)).float())\n",
        "train_loader=DataLoader(train_data,batch_size=batch_size,shuffle=True,drop_last=True)\n",
        "\n",
        "val_data=TensorDataset(torch.from_numpy(X_val).float(),(torch.from_numpy(y_val)).float())\n",
        "val_loader=DataLoader(val_data,batch_size=batch_size,shuffle=True,drop_last=True)\n",
        "\n",
        "test_data=TensorDataset(torch.from_numpy(X_test).float(),(torch.from_numpy(y_test)).float())\n",
        "test_loader=DataLoader(test_data,batch_size=batch_size,shuffle=True,drop_last=True)"
      ],
      "execution_count": 0,
      "outputs": []
    },
    {
      "cell_type": "code",
      "metadata": {
        "id": "MEgCkA7Tj62A",
        "colab_type": "code",
        "colab": {}
      },
      "source": [
        "# build lstm.\n",
        "class humour_model(nn.Module):\n",
        "  \n",
        "  \n",
        "  def __init__(self,input_dim,hidden_dim,n_layers,drop_prob=0.0):\n",
        "    torch.manual_seed(1)\n",
        "    super(humour_model, self).__init__()\n",
        "    self.input_dim=input_dim\n",
        "    self.hidden_dim=hidden_dim\n",
        "    self.n_layers=n_layers\n",
        "    \n",
        "    \n",
        "    # lstm layer.\n",
        "    # if n_layers==1:\n",
        "    #   drop_prob=0\n",
        "    self.lstm=nn.LSTM(self.input_dim,hidden_dim,n_layers,dropout=drop_prob,batch_first=True,bidirectional=True)\n",
        "    \n",
        "    # define a droput layer between fc layer and lstm output.\n",
        "    self.dropout=nn.Dropout(drop_prob)\n",
        "    \n",
        "    # final output/ final hidden state(hidden_state[0]) is passed through a fc layer to get desired output.\n",
        "    self.feed_forward=nn.Sequential(nn.Linear(hidden_dim,5),nn.ReLU(),nn.Linear(5,1),nn.Sigmoid())\n",
        "    # define multihead attention layer.\n",
        "    self.multihead_attn=nn.MultiheadAttention(hidden_dim, 10)\n",
        "    \n",
        "  def forward(self,x,hidden):\n",
        "\n",
        "    out,hidden=self.lstm(x,hidden)\n",
        "    # out,attn_weights=self.multihead_attn(out,out,out)\n",
        "    # out,attn_weights=self.multihead_attn(out,out,out)\n",
        "    # out,attn_weights=self.multihead_attn(out,out,out)\n",
        "    # out,attn_weights=self.multihead_attn(out,out,out)\n",
        "    # pass only final hidden state to feedforward network.\n",
        "    final_hidden=hidden[0].sum(axis=0)\n",
        "    # ff_input=out[:,-1,:]\n",
        "    # print(hidden[0].shape)\n",
        "    # return out\n",
        "    # print(ff_input.shape)\n",
        "    output=self.feed_forward(final_hidden)\n",
        "      \n",
        "    return output*3\n",
        "\n",
        "  def init_hidden(self, batch_size):\n",
        "      ''' Initializes hidden state '''\n",
        "      # Create two new tensors with sizes n_layers x batch_size x hidden_dim,\n",
        "      # initialized to zero, for hidden state and cell state of LSTM\n",
        "      weight = next(self.parameters()).data\n",
        "\n",
        "      if (is_cuda):\n",
        "          hidden = (weight.new(self.n_layers*2, batch_size, self.hidden_dim).zero_().cuda(),\n",
        "                weight.new(self.n_layers*2, batch_size, self.hidden_dim).zero_().cuda())\n",
        "      else:\n",
        "          hidden = (weight.new(self.n_layers*2, batch_size, self.hidden_dim).zero_(),\n",
        "                    weight.new(self.n_layers*2, batch_size, self.hidden_dim).zero_())\n",
        "\n",
        "      return hidden"
      ],
      "execution_count": 0,
      "outputs": []
    },
    {
      "cell_type": "code",
      "metadata": {
        "id": "98KdZY1OkMe3",
        "colab_type": "code",
        "colab": {
          "base_uri": "https://localhost:8080/",
          "height": 170
        },
        "outputId": "f67282cb-08af-4497-e70d-95e3f2d98a31"
      },
      "source": [
        "hidden_dim=100\n",
        "input_dim=X_train.shape[2]\n",
        "n_layers=1\n",
        "\n",
        "model=humour_model(input_dim,hidden_dim,n_layers)    \n",
        "print(next(model.parameters()))"
      ],
      "execution_count": 22,
      "outputs": [
        {
          "output_type": "stream",
          "text": [
            "Parameter containing:\n",
            "tensor([[ 0.0515, -0.0441, -0.0194,  ...,  0.0014, -0.0571, -0.0558],\n",
            "        [-0.0149, -0.0288,  0.0245,  ..., -0.0258, -0.0014,  0.0983],\n",
            "        [ 0.0672, -0.0074,  0.0980,  ...,  0.0823, -0.0242,  0.0036],\n",
            "        ...,\n",
            "        [ 0.0694,  0.0694,  0.0543,  ...,  0.0024, -0.0604, -0.0383],\n",
            "        [-0.0641, -0.0177, -0.0897,  ...,  0.0901,  0.0913, -0.0629],\n",
            "        [-0.0834, -0.0278,  0.0492,  ...,  0.0458,  0.0805,  0.0014]],\n",
            "       requires_grad=True)\n"
          ],
          "name": "stdout"
        }
      ]
    },
    {
      "cell_type": "code",
      "metadata": {
        "id": "h5T177mZkMVr",
        "colab_type": "code",
        "colab": {}
      },
      "source": [
        "\n",
        "lr=0.00001\n",
        "\n",
        "criterion = nn.MSELoss()\n",
        "optimizer = torch.optim.Adam(model.parameters(), lr=lr)\n",
        "scheduler=torch.optim.lr_scheduler.ExponentialLR(optimizer, gamma=2, last_epoch=-1)"
      ],
      "execution_count": 0,
      "outputs": []
    },
    {
      "cell_type": "code",
      "metadata": {
        "id": "u17KAvNAkMMH",
        "colab_type": "code",
        "colab": {
          "base_uri": "https://localhost:8080/",
          "height": 1000
        },
        "outputId": "f1fa616a-5297-4dda-ee41-3c2fe29af3a6"
      },
      "source": [
        "# training loop.\n",
        "import matplotlib.pyplot as plt\n",
        "epochs = 80\n",
        "counter = 0\n",
        "print_every = 100\n",
        "clip=5 # gradient clipping\n",
        "\n",
        "# move model to GPU, if available\n",
        "if(is_cuda):\n",
        "    model.cuda()\n",
        "\n",
        "model.train()\n",
        "x=[]\n",
        "y=[]\n",
        "y_train=[]\n",
        "for i in range(epochs):\n",
        "  h = model.init_hidden(batch_size)\n",
        "  \n",
        "  # train_losses=[]\n",
        "  for inputs, labels in train_loader:\n",
        "      counter += 1\n",
        "\n",
        "      if(is_cuda):\n",
        "          inputs, labels = inputs.cuda(), labels.cuda()\n",
        "\n",
        "      # Creating new variables for the hidden state, otherwise\n",
        "      # we'd backprop through the entire training history\n",
        "      h = tuple([each.data for each in h])\n",
        "      model.zero_grad()\n",
        "\n",
        "      # get the output from the model\n",
        "      output=model.forward(inputs,h)\n",
        "    \n",
        "      # calculate the loss and perform backprop\n",
        "      loss = torch.sqrt(criterion(output.squeeze(), labels))\n",
        "      loss.backward()\n",
        "      # train_losses.append(loss.item())\n",
        "\n",
        "      # `clip_grad_norm` helps prevent the exploding gradient problem in RNNs / LSTMs.\n",
        "      nn.utils.clip_grad_norm_(model.parameters(), clip)\n",
        "      optimizer.step()              \n",
        "  \n",
        "  # loss stats\n",
        "     \n",
        "      if counter % print_every == 0:\n",
        "          with torch.no_grad():\n",
        "            # Get validation loss\n",
        "            x.append(counter)\n",
        "            val_h = model.init_hidden(batch_size)\n",
        "            val_losses = []\n",
        "            model.eval() # putting model to test mode. \n",
        "            for inputs, labels in val_loader:\n",
        "\n",
        "                val_h = tuple([each.data for each in val_h])\n",
        "\n",
        "                if(is_cuda):\n",
        "                    inputs, labels = inputs.cuda(), labels.cuda()\n",
        "\n",
        "                output=model.forward(inputs,h)\n",
        "                \n",
        "                val_loss = torch.sqrt(criterion(output.squeeze(), labels))\n",
        "\n",
        "                val_losses.append(val_loss.item())\n",
        "\n",
        "            # bring model back to training mode. \n",
        "            print(\"Epoch: {}/{}...\".format(i+1, epochs),\n",
        "                  \"Step: {}...\".format(counter),\n",
        "                  \"Loss: {:.6f}...\".format(loss.item()),\n",
        "                  \"Val Loss: {:.6f}\".format(np.mean(val_losses)))\n",
        "            \n",
        "            y.append(np.mean(val_losses))\n",
        "            y_train.append(loss.item())\n",
        "          model.train() \n",
        "          # train_losses=[]\n",
        "  # if (i+1)%20==0:\n",
        "  #   scheduler.step()          \n",
        "\n",
        "plt.plot(x,y_train)\n",
        "plt.plot(x,y)\n",
        "plt.xlabel('No of mini batch passes')\n",
        "plt.ylabel('loss')\n",
        "plt.show()\n",
        "\n",
        "# plt.xlabel('No of mini batch passes')\n",
        "# plt.ylabel('Train loss')\n",
        "# plt.show()"
      ],
      "execution_count": 24,
      "outputs": [
        {
          "output_type": "stream",
          "text": [
            "Epoch: 1/80... Step: 100... Loss: 0.736168... Val Loss: 0.768820\n",
            "Epoch: 2/80... Step: 200... Loss: 0.779316... Val Loss: 0.752619\n",
            "Epoch: 3/80... Step: 300... Loss: 0.734146... Val Loss: 0.720692\n",
            "Epoch: 4/80... Step: 400... Loss: 0.708395... Val Loss: 0.692894\n",
            "Epoch: 5/80... Step: 500... Loss: 0.676235... Val Loss: 0.664176\n",
            "Epoch: 6/80... Step: 600... Loss: 0.570436... Val Loss: 0.640958\n",
            "Epoch: 7/80... Step: 700... Loss: 0.582938... Val Loss: 0.616855\n",
            "Epoch: 8/80... Step: 800... Loss: 0.622070... Val Loss: 0.611203\n",
            "Epoch: 9/80... Step: 900... Loss: 0.609953... Val Loss: 0.605781\n",
            "Epoch: 10/80... Step: 1000... Loss: 0.545241... Val Loss: 0.604591\n",
            "Epoch: 11/80... Step: 1100... Loss: 0.545031... Val Loss: 0.604471\n",
            "Epoch: 12/80... Step: 1200... Loss: 0.528188... Val Loss: 0.600384\n",
            "Epoch: 13/80... Step: 1300... Loss: 0.612146... Val Loss: 0.606658\n",
            "Epoch: 14/80... Step: 1400... Loss: 0.591263... Val Loss: 0.605063\n",
            "Epoch: 15/80... Step: 1500... Loss: 0.625710... Val Loss: 0.602499\n",
            "Epoch: 16/80... Step: 1600... Loss: 0.609733... Val Loss: 0.602260\n",
            "Epoch: 17/80... Step: 1700... Loss: 0.515947... Val Loss: 0.602524\n",
            "Epoch: 18/80... Step: 1800... Loss: 0.588342... Val Loss: 0.600466\n",
            "Epoch: 19/80... Step: 1900... Loss: 0.559838... Val Loss: 0.599674\n",
            "Epoch: 20/80... Step: 2000... Loss: 0.578389... Val Loss: 0.604124\n",
            "Epoch: 20/80... Step: 2100... Loss: 0.587520... Val Loss: 0.602552\n",
            "Epoch: 21/80... Step: 2200... Loss: 0.539041... Val Loss: 0.600702\n",
            "Epoch: 22/80... Step: 2300... Loss: 0.639385... Val Loss: 0.600289\n",
            "Epoch: 23/80... Step: 2400... Loss: 0.578196... Val Loss: 0.597995\n",
            "Epoch: 24/80... Step: 2500... Loss: 0.565786... Val Loss: 0.599520\n",
            "Epoch: 25/80... Step: 2600... Loss: 0.610052... Val Loss: 0.600256\n",
            "Epoch: 26/80... Step: 2700... Loss: 0.545263... Val Loss: 0.598796\n",
            "Epoch: 27/80... Step: 2800... Loss: 0.554131... Val Loss: 0.596862\n",
            "Epoch: 28/80... Step: 2900... Loss: 0.568430... Val Loss: 0.597766\n",
            "Epoch: 29/80... Step: 3000... Loss: 0.705099... Val Loss: 0.597570\n",
            "Epoch: 30/80... Step: 3100... Loss: 0.624973... Val Loss: 0.595098\n",
            "Epoch: 31/80... Step: 3200... Loss: 0.537035... Val Loss: 0.598802\n",
            "Epoch: 32/80... Step: 3300... Loss: 0.509948... Val Loss: 0.599445\n",
            "Epoch: 33/80... Step: 3400... Loss: 0.597569... Val Loss: 0.595962\n",
            "Epoch: 34/80... Step: 3500... Loss: 0.547831... Val Loss: 0.599007\n",
            "Epoch: 35/80... Step: 3600... Loss: 0.560314... Val Loss: 0.597535\n",
            "Epoch: 36/80... Step: 3700... Loss: 0.585358... Val Loss: 0.597164\n",
            "Epoch: 37/80... Step: 3800... Loss: 0.543042... Val Loss: 0.597945\n",
            "Epoch: 38/80... Step: 3900... Loss: 0.593525... Val Loss: 0.597565\n",
            "Epoch: 39/80... Step: 4000... Loss: 0.528724... Val Loss: 0.593704\n",
            "Epoch: 40/80... Step: 4100... Loss: 0.595932... Val Loss: 0.595208\n",
            "Epoch: 40/80... Step: 4200... Loss: 0.539730... Val Loss: 0.592529\n",
            "Epoch: 41/80... Step: 4300... Loss: 0.526476... Val Loss: 0.593133\n",
            "Epoch: 42/80... Step: 4400... Loss: 0.446231... Val Loss: 0.592612\n",
            "Epoch: 43/80... Step: 4500... Loss: 0.527838... Val Loss: 0.593392\n",
            "Epoch: 44/80... Step: 4600... Loss: 0.540868... Val Loss: 0.592655\n",
            "Epoch: 45/80... Step: 4700... Loss: 0.560848... Val Loss: 0.593652\n",
            "Epoch: 46/80... Step: 4800... Loss: 0.549630... Val Loss: 0.590202\n",
            "Epoch: 47/80... Step: 4900... Loss: 0.605247... Val Loss: 0.594114\n",
            "Epoch: 48/80... Step: 5000... Loss: 0.610479... Val Loss: 0.593668\n",
            "Epoch: 49/80... Step: 5100... Loss: 0.599262... Val Loss: 0.589107\n",
            "Epoch: 50/80... Step: 5200... Loss: 0.507559... Val Loss: 0.588724\n",
            "Epoch: 51/80... Step: 5300... Loss: 0.544914... Val Loss: 0.590481\n",
            "Epoch: 52/80... Step: 5400... Loss: 0.540876... Val Loss: 0.591260\n",
            "Epoch: 53/80... Step: 5500... Loss: 0.531719... Val Loss: 0.589897\n",
            "Epoch: 54/80... Step: 5600... Loss: 0.511121... Val Loss: 0.586050\n",
            "Epoch: 55/80... Step: 5700... Loss: 0.549878... Val Loss: 0.587530\n",
            "Epoch: 56/80... Step: 5800... Loss: 0.535871... Val Loss: 0.591089\n",
            "Epoch: 57/80... Step: 5900... Loss: 0.467916... Val Loss: 0.591062\n",
            "Epoch: 58/80... Step: 6000... Loss: 0.602163... Val Loss: 0.591331\n",
            "Epoch: 59/80... Step: 6100... Loss: 0.526354... Val Loss: 0.588146\n",
            "Epoch: 60/80... Step: 6200... Loss: 0.570123... Val Loss: 0.589412\n",
            "Epoch: 60/80... Step: 6300... Loss: 0.561601... Val Loss: 0.590990\n",
            "Epoch: 61/80... Step: 6400... Loss: 0.584697... Val Loss: 0.592975\n",
            "Epoch: 62/80... Step: 6500... Loss: 0.612381... Val Loss: 0.591277\n",
            "Epoch: 63/80... Step: 6600... Loss: 0.563563... Val Loss: 0.591083\n",
            "Epoch: 64/80... Step: 6700... Loss: 0.531567... Val Loss: 0.594329\n",
            "Epoch: 65/80... Step: 6800... Loss: 0.524209... Val Loss: 0.593003\n",
            "Epoch: 66/80... Step: 6900... Loss: 0.555047... Val Loss: 0.591488\n",
            "Epoch: 67/80... Step: 7000... Loss: 0.599817... Val Loss: 0.590769\n",
            "Epoch: 68/80... Step: 7100... Loss: 0.572038... Val Loss: 0.592335\n",
            "Epoch: 69/80... Step: 7200... Loss: 0.527839... Val Loss: 0.591516\n",
            "Epoch: 70/80... Step: 7300... Loss: 0.492896... Val Loss: 0.591692\n",
            "Epoch: 71/80... Step: 7400... Loss: 0.484126... Val Loss: 0.589494\n",
            "Epoch: 72/80... Step: 7500... Loss: 0.568336... Val Loss: 0.590995\n",
            "Epoch: 73/80... Step: 7600... Loss: 0.533587... Val Loss: 0.595256\n",
            "Epoch: 74/80... Step: 7700... Loss: 0.466153... Val Loss: 0.596411\n",
            "Epoch: 75/80... Step: 7800... Loss: 0.568658... Val Loss: 0.591030\n",
            "Epoch: 76/80... Step: 7900... Loss: 0.518362... Val Loss: 0.594357\n",
            "Epoch: 77/80... Step: 8000... Loss: 0.472829... Val Loss: 0.592614\n",
            "Epoch: 78/80... Step: 8100... Loss: 0.548348... Val Loss: 0.588918\n",
            "Epoch: 79/80... Step: 8200... Loss: 0.529495... Val Loss: 0.591887\n",
            "Epoch: 80/80... Step: 8300... Loss: 0.500646... Val Loss: 0.596410\n",
            "Epoch: 80/80... Step: 8400... Loss: 0.570483... Val Loss: 0.595266\n"
          ],
          "name": "stdout"
        },
        {
          "output_type": "display_data",
          "data": {
            "image/png": "[encoded data removed]",
            "text/plain": [
              "<Figure size 432x288 with 1 Axes>"
            ]
          },
          "metadata": {
            "tags": []
          }
        }
      ]
    },
    {
      "cell_type": "code",
      "metadata": {
        "id": "ODnUekiQj2s1",
        "colab_type": "code",
        "colab": {}
      },
      "source": [
        "# encode sentences.\n",
        "#glove embeddings.\n",
        "word_embeddings = {}\n",
        "f = open('/content/gdrive/My Drive/Colab Notebooks/humour/glove.6B.200d.txt', encoding='utf-8')\n",
        "for line in f:\n",
        "    values=line.split()\n",
        "    word=values[0]\n",
        "    embedding_for_word = np.asarray(values[1:], dtype='float64')\n",
        "    word_embeddings[word]=embedding_for_word\n",
        "    \n"
      ],
      "execution_count": 0,
      "outputs": []
    },
    {
      "cell_type": "code",
      "metadata": {
        "id": "jhZ-q6OP9_bl",
        "colab_type": "code",
        "colab": {}
      },
      "source": [
        "# can use fast Text for encoding."
      ],
      "execution_count": 0,
      "outputs": []
    }
  ]
}