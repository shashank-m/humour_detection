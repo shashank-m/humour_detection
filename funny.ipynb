{
  "nbformat": 4,
  "nbformat_minor": 0,
  "metadata": {
    "colab": {
      "name": "funny.ipynb",
      "provenance": [],
      "collapsed_sections": [],
      "machine_shape": "hm",
      "include_colab_link": true
    },
    "kernelspec": {
      "name": "python3",
      "display_name": "Python 3"
    },
    "accelerator": "GPU"
  },
  "cells": [
    {
      "cell_type": "markdown",
      "metadata": {
        "id": "view-in-github",
        "colab_type": "text"
      },
      "source": [
        "<a href=\"https://colab.research.google.com/github/shashank-m/humour_detection/blob/master/funny.ipynb\" target=\"_parent\"><img src=\"https://colab.research.google.com/assets/colab-badge.svg\" alt=\"Open In Colab\"/></a>"
      ]
    },
    {
      "cell_type": "code",
      "metadata": {
        "id": "RDg-4zou8TTH",
        "colab_type": "code",
        "colab": {}
      },
      "source": [
        "import pandas as pd\n",
        "import numpy as np\n",
        "import codecs\n",
        "from tqdm import tqdm\n",
        "import spacy\n",
        "import matplotlib.pyplot as plt\n"
      ],
      "execution_count": 0,
      "outputs": []
    },
    {
      "cell_type": "code",
      "metadata": {
        "id": "h9i160R9iq0S",
        "colab_type": "code",
        "outputId": "15cc6a5f-51b2-4f40-ed79-d271acec09d1",
        "colab": {
          "base_uri": "https://localhost:8080/",
          "height": 122
        }
      },
      "source": [
        "from google.colab import drive\n",
        "drive.mount('/content/gdrive')"
      ],
      "execution_count": 2,
      "outputs": [
        {
          "output_type": "stream",
          "text": [
            "Go to this URL in a browser: https://accounts.google.com/o/oauth2/auth?client_id=947318989803-6bn6qk8qdgf4n4g3pfee6491hc0brc4i.apps.googleusercontent.com&redirect_uri=urn%3aietf%3awg%3aoauth%3a2.0%3aoob&response_type=code&scope=email%20https%3a%2f%2fwww.googleapis.com%2fauth%2fdocs.test%20https%3a%2f%2fwww.googleapis.com%2fauth%2fdrive%20https%3a%2f%2fwww.googleapis.com%2fauth%2fdrive.photos.readonly%20https%3a%2f%2fwww.googleapis.com%2fauth%2fpeopleapi.readonly\n",
            "\n",
            "Enter your authorization code:\n",
            "··········\n",
            "Mounted at /content/gdrive\n"
          ],
          "name": "stdout"
        }
      ]
    },
    {
      "cell_type": "code",
      "metadata": {
        "id": "_G-jlOpLjKGg",
        "colab_type": "code",
        "outputId": "5ff07357-75c8-4120-f112-fd0fc74c6180",
        "colab": {
          "base_uri": "https://localhost:8080/",
          "height": 51
        }
      },
      "source": [
        "!ls /content/gdrive/'My Drive'/'Colab Notebooks'/humour/\n"
      ],
      "execution_count": 4,
      "outputs": [
        {
          "output_type": "stream",
          "text": [
            "funny.ipynb  glove.6B.100d.txt\ttask-1\t\t wiki.simple.vec\n",
            "funny.py     glove.6B.200d.txt\tUntitled0.ipynb\n"
          ],
          "name": "stdout"
        }
      ]
    },
    {
      "cell_type": "code",
      "metadata": {
        "id": "_wKpbyWXdjfK",
        "colab_type": "code",
        "outputId": "e37a2f96-a0a0-4b6d-8579-106b139aecbb",
        "colab": {
          "base_uri": "https://localhost:8080/",
          "height": 34
        }
      },
      "source": [
        "embeddings_index = {}\n",
        "#import pre trained fast text embeddings.\n",
        "f = codecs.open('/content/gdrive/My Drive/Colab Notebooks/humour/wiki.simple.vec', encoding='utf-8')\n",
        "for line in tqdm(f):\n",
        "    values = line.rstrip().rsplit(' ')\n",
        "    word = values[0]\n",
        "    coefs = np.asarray(values[1:], dtype='float32')\n",
        "#     torch_coefs=torch.from_numpy(coefs)\n",
        "    embeddings_index[word] = coefs\n",
        "    \n",
        "        \n",
        "f.close()"
      ],
      "execution_count": 3,
      "outputs": [
        {
          "output_type": "stream",
          "text": [
            "111052it [00:11, 9621.29it/s] \n"
          ],
          "name": "stderr"
        }
      ]
    },
    {
      "cell_type": "code",
      "metadata": {
        "id": "O3N5OuD7iSZx",
        "colab_type": "code",
        "outputId": "35ae5732-43ca-4ac1-bb39-cef372332367",
        "colab": {
          "base_uri": "https://localhost:8080/",
          "height": 170
        }
      },
      "source": [
        "\n",
        "\n",
        "\n",
        "import pandas as  pd\n",
        "import numpy as np \n",
        "import time\n",
        "\n",
        "alpha=0\n",
        "df=pd.read_csv('/content/gdrive/My Drive/Colab Notebooks/humour/task-1/train.csv')\n",
        "print(df.head())\n",
        "start=time.time()\n",
        "data_list=[]\n",
        "# the below code block takes the new word and puts it in the original tweet to make it sound funny.\n",
        "for row in df.itertuples():\n",
        "    score=row[-1]\n",
        "    new_word=row[3]\n",
        "    original_headline=row[2]\n",
        "    replaced_word=row[2].split('<')[1].split('>')[0].split('/')[0]\n",
        "    list_of_words=original_headline.split()\n",
        "    original_list_of_words=list_of_words\n",
        "    \n",
        "    for i,word in enumerate(list_of_words):\n",
        "        if(word[0]=='<' and word[-1]=='>'):\n",
        "            alpha=1\n",
        "            pos_of_replaced_word=i\n",
        "            break\n",
        "        if (word[0]=='<'and word[-1]!='>'):\n",
        "            alpha=-1\n",
        "            try:\n",
        "                token=i-1\n",
        "                pop_1=token+1   \n",
        "                break\n",
        "            except:\n",
        "                # word in beginning\n",
        "                pop_1=i \n",
        "                break\n",
        "    if alpha==1:\n",
        "        list_of_words[pos_of_replaced_word]=new_word\n",
        "    if alpha==-1:\n",
        "        list_of_words.remove(list_of_words[pop_1])\n",
        "        list_of_words.remove(list_of_words[pop_1])\n",
        "        list_of_words.insert(pop_1,new_word)\n",
        "           \n",
        "    edited_headline=' '.join(list_of_words)\n",
        "    \n",
        "    tup=(replaced_word,original_headline.split(),list_of_words,new_word,score)\n",
        "    data_list.append(tup)\n",
        "    \n",
        "    \n",
        "        \n",
        "\n",
        "print('Time taken is {} seconds'.format(time.time()-start))"
      ],
      "execution_count": 4,
      "outputs": [
        {
          "output_type": "stream",
          "text": [
            "      id                                           original  ... grades  meanGrade\n",
            "0  14530  France is ‘ hunting down its citizens who join...  ...  10000        0.2\n",
            "1  13034  Pentagon claims 2,000 % increase in Russian tr...  ...  33110        1.6\n",
            "2   8731  Iceland PM Calls Snap Vote as Pedophile Furor ...  ...  22100        1.0\n",
            "3     76  In an apparent first , Iran and Israel <engage...  ...  20000        0.4\n",
            "4   6164  Trump was told weeks ago that Flynn misled <Vi...  ...      0        0.0\n",
            "\n",
            "[5 rows x 5 columns]\n",
            "Time taken is 0.1438891887664795 seconds\n"
          ],
          "name": "stdout"
        }
      ]
    },
    {
      "cell_type": "code",
      "metadata": {
        "id": "iijqai37eV0l",
        "colab_type": "code",
        "colab": {}
      },
      "source": [
        "tweet=[]\n",
        "scores=[]\n",
        "for tup in data_list:\n",
        "  t=[i.lower() for i in tup[2]]\n",
        "  listToStr = ' '.join([str(elem) for elem in t])\n",
        "  scores.append(tup[-1])\n",
        "  tweet.append(listToStr)"
      ],
      "execution_count": 0,
      "outputs": []
    },
    {
      "cell_type": "code",
      "metadata": {
        "id": "9FW-7IJAgW-z",
        "colab_type": "code",
        "outputId": "0fce2af6-489a-4b79-c7c0-8184d9710e71",
        "colab": {
          "base_uri": "https://localhost:8080/",
          "height": 204
        }
      },
      "source": [
        "data=list(zip(tweet,scores))\n",
        "df=pd.DataFrame(data,columns=['tweet','scores'])\n",
        "df.head()"
      ],
      "execution_count": 6,
      "outputs": [
        {
          "output_type": "execute_result",
          "data": {
            "text/html": [
              "<div>\n",
              "<style scoped>\n",
              "    .dataframe tbody tr th:only-of-type {\n",
              "        vertical-align: middle;\n",
              "    }\n",
              "\n",
              "    .dataframe tbody tr th {\n",
              "        vertical-align: top;\n",
              "    }\n",
              "\n",
              "    .dataframe thead th {\n",
              "        text-align: right;\n",
              "    }\n",
              "</style>\n",
              "<table border=\"1\" class=\"dataframe\">\n",
              "  <thead>\n",
              "    <tr style=\"text-align: right;\">\n",
              "      <th></th>\n",
              "      <th>tweet</th>\n",
              "      <th>scores</th>\n",
              "    </tr>\n",
              "  </thead>\n",
              "  <tbody>\n",
              "    <tr>\n",
              "      <th>0</th>\n",
              "      <td>france is ‘ hunting down its citizens who join...</td>\n",
              "      <td>0.2</td>\n",
              "    </tr>\n",
              "    <tr>\n",
              "      <th>1</th>\n",
              "      <td>pentagon claims 2,000 % increase in russian tr...</td>\n",
              "      <td>1.6</td>\n",
              "    </tr>\n",
              "    <tr>\n",
              "      <th>2</th>\n",
              "      <td>iceland pm calls snap vote as pedophile furor ...</td>\n",
              "      <td>1.0</td>\n",
              "    </tr>\n",
              "    <tr>\n",
              "      <th>3</th>\n",
              "      <td>in an apparent first , iran and israel slap ea...</td>\n",
              "      <td>0.4</td>\n",
              "    </tr>\n",
              "    <tr>\n",
              "      <th>4</th>\n",
              "      <td>trump was told weeks ago that flynn misled sch...</td>\n",
              "      <td>0.0</td>\n",
              "    </tr>\n",
              "  </tbody>\n",
              "</table>\n",
              "</div>"
            ],
            "text/plain": [
              "                                               tweet  scores\n",
              "0  france is ‘ hunting down its citizens who join...     0.2\n",
              "1  pentagon claims 2,000 % increase in russian tr...     1.6\n",
              "2  iceland pm calls snap vote as pedophile furor ...     1.0\n",
              "3  in an apparent first , iran and israel slap ea...     0.4\n",
              "4  trump was told weeks ago that flynn misled sch...     0.0"
            ]
          },
          "metadata": {
            "tags": []
          },
          "execution_count": 6
        }
      ]
    },
    {
      "cell_type": "code",
      "metadata": {
        "id": "HvYKfJ_8iJpM",
        "colab_type": "code",
        "colab": {}
      },
      "source": [
        "nlp=spacy.load('en_core_web_sm')"
      ],
      "execution_count": 0,
      "outputs": []
    },
    {
      "cell_type": "code",
      "metadata": {
        "id": "aqJVZW1fidrE",
        "colab_type": "code",
        "colab": {}
      },
      "source": [
        "def encode_word(token):\n",
        "    try:\n",
        "       return embeddings_index[token.text.lower()]\n",
        "    except:\n",
        "        \"\"\"\n",
        "        for the case where the embedding for the word doesn't \n",
        "        exist in the fast text pretrained file. \n",
        "        \"\"\"\n",
        "        return np.random.randn(300)\n",
        "        \n",
        "def encode_tweet(tweet):\n",
        "    tokenised=nlp(tweet)\n",
        "    l=list(map(encode_word,tokenised))\n",
        "    return np.stack(l,axis=0)"
      ],
      "execution_count": 0,
      "outputs": []
    },
    {
      "cell_type": "code",
      "metadata": {
        "id": "YuGwn-aVie_6",
        "colab_type": "code",
        "colab": {}
      },
      "source": [
        "df['encode']=df['tweet'].apply(encode_tweet)\n"
      ],
      "execution_count": 0,
      "outputs": []
    },
    {
      "cell_type": "code",
      "metadata": {
        "id": "B0_WcgR7jITt",
        "colab_type": "code",
        "colab": {}
      },
      "source": [
        "def sh(x):\n",
        "    return x.shape[0]"
      ],
      "execution_count": 0,
      "outputs": []
    },
    {
      "cell_type": "code",
      "metadata": {
        "id": "BzyKz-CpjTdz",
        "colab_type": "code",
        "outputId": "d76fbfa7-4513-4aca-e0a9-7638cd3eef96",
        "colab": {
          "base_uri": "https://localhost:8080/",
          "height": 34
        }
      },
      "source": [
        "max_seq_length=max(df['encode'].apply(sh))\n",
        "max_seq_length"
      ],
      "execution_count": 11,
      "outputs": [
        {
          "output_type": "execute_result",
          "data": {
            "text/plain": [
              "28"
            ]
          },
          "metadata": {
            "tags": []
          },
          "execution_count": 11
        }
      ]
    },
    {
      "cell_type": "code",
      "metadata": {
        "id": "W-7Th1WOjZsH",
        "colab_type": "code",
        "colab": {}
      },
      "source": [
        "def padding(arr):\n",
        "    \"\"\"\n",
        "    pad the vectors so that all examples in the dataset have same seq length \n",
        "    (equal to max seq length in dataset)\n",
        "    \"\"\"\n",
        "    seq_length=arr.shape[0]\n",
        "    dim=arr.shape[1]\n",
        "    zero_arrays=max_seq_length-seq_length\n",
        "    zero_array=np.zeros((zero_arrays,dim))\n",
        "    return np.concatenate((arr,zero_array),0)\n",
        "df['padded_encode']=df['encode'].apply(padding)"
      ],
      "execution_count": 0,
      "outputs": []
    },
    {
      "cell_type": "code",
      "metadata": {
        "id": "pqb2z_-UjgZz",
        "colab_type": "code",
        "colab": {}
      },
      "source": [
        "np.random.seed(1)# seed to get the same shuffled dataset everytime.\n",
        "shuffled=np.random.permutation(df.shape[0])\n",
        "df.index=shuffled\n",
        "train_split=int(0.7*df.shape[0])\n",
        "X_train=df[:train_split]\n",
        "X_test=df[train_split:]\n",
        "\n",
        "val_split=int(X_test.shape[0]*0.5)\n",
        "X_val=X_test[:val_split]\n",
        "X_test=X_test[val_split:]\n",
        "\n",
        "y_train=X_train['scores']\n",
        "y_val=X_val['scores']\n",
        "y_test=X_test['scores']\n",
        "\n",
        "X_train=X_train['padded_encode']\n",
        "X_val=X_val['padded_encode']\n",
        "X_test=X_test['padded_encode']\n",
        "\n",
        "#convert series to array.\n",
        "def series_to_array(series):\n",
        "    return np.array(series.to_list())\n",
        "X_train=series_to_array(X_train)\n",
        "X_val=series_to_array(X_val)\n",
        "X_test=series_to_array(X_test)\n",
        "y_train=series_to_array(y_train)\n",
        "y_val=series_to_array(y_val)\n",
        "y_test=series_to_array(y_test)"
      ],
      "execution_count": 0,
      "outputs": []
    },
    {
      "cell_type": "code",
      "metadata": {
        "id": "Ea1DfHHEj4kG",
        "colab_type": "code",
        "outputId": "a225d2a7-1c4b-4f9c-8a85-d052a5103a34",
        "colab": {
          "base_uri": "https://localhost:8080/",
          "height": 34
        }
      },
      "source": [
        "\n",
        "import torch\n",
        "import torch.nn as nn\n",
        "from torch.autograd import Variable\n",
        "from torch.nn import functional as F\n",
        "from torch.utils.data import TensorDataset, DataLoader\n",
        "torch.manual_seed(1)"
      ],
      "execution_count": 34,
      "outputs": [
        {
          "output_type": "execute_result",
          "data": {
            "text/plain": [
              "<torch._C.Generator at 0x7f70dc23f6b0>"
            ]
          },
          "metadata": {
            "tags": []
          },
          "execution_count": 34
        }
      ]
    },
    {
      "cell_type": "code",
      "metadata": {
        "id": "cR7bZ_Dfj51E",
        "colab_type": "code",
        "outputId": "fae3ba74-9e9b-459b-d1f4-6ae2572e154e",
        "colab": {
          "base_uri": "https://localhost:8080/",
          "height": 34
        }
      },
      "source": [
        "is_cuda = torch.cuda.is_available()\n",
        "if is_cuda:\n",
        "    device = torch.device(\"cuda\")\n",
        "    print(\"GPU is available\")\n",
        "else:\n",
        "    device = torch.device(\"cpu\")\n",
        "    print(\"GPU not available, CPU used\")"
      ],
      "execution_count": 35,
      "outputs": [
        {
          "output_type": "stream",
          "text": [
            "GPU is available\n"
          ],
          "name": "stdout"
        }
      ]
    },
    {
      "cell_type": "code",
      "metadata": {
        "id": "sG3S9CLe08ss",
        "colab_type": "code",
        "colab": {}
      },
      "source": [
        "\"\"\"\n",
        "To get reproducible results.\n",
        "\"\"\"\n",
        "import random\n",
        "torch.backends.cudnn.deterministic = True\n",
        "random.seed(1)\n",
        "torch.manual_seed(1)\n",
        "torch.cuda.manual_seed(1)\n",
        "np.random.seed(1)"
      ],
      "execution_count": 0,
      "outputs": []
    },
    {
      "cell_type": "code",
      "metadata": {
        "id": "R7UDJ4Uhj6VG",
        "colab_type": "code",
        "colab": {}
      },
      "source": [
        "batch_size=64\n",
        "train_data=TensorDataset(torch.from_numpy(X_train).float(),(torch.from_numpy(y_train)).float())\n",
        "train_loader=DataLoader(train_data,batch_size=batch_size,shuffle=True,drop_last=True)\n",
        "\n",
        "val_data=TensorDataset(torch.from_numpy(X_val).float(),(torch.from_numpy(y_val)).float())\n",
        "val_loader=DataLoader(val_data,batch_size=batch_size,shuffle=True,drop_last=True)\n",
        "\n",
        "test_data=TensorDataset(torch.from_numpy(X_test).float(),(torch.from_numpy(y_test)).float())\n",
        "test_loader=DataLoader(test_data,batch_size=batch_size,shuffle=True,drop_last=True)"
      ],
      "execution_count": 0,
      "outputs": []
    },
    {
      "cell_type": "code",
      "metadata": {
        "id": "MEgCkA7Tj62A",
        "colab_type": "code",
        "colab": {}
      },
      "source": [
        "# build lstm.\n",
        "class humour_model(nn.Module):\n",
        "  \n",
        "  \n",
        "  def __init__(self,input_dim,hidden_dim,n_layers,drop_prob=0.0):\n",
        "    torch.manual_seed(1)\n",
        "    super(humour_model, self).__init__()\n",
        "    self.input_dim=input_dim\n",
        "    self.hidden_dim=hidden_dim\n",
        "    self.n_layers=n_layers\n",
        "    \n",
        "    \n",
        "    # lstm layer.\n",
        "    # if n_layers==1:\n",
        "    #   drop_prob=0\n",
        "    self.lstm=nn.LSTM(self.input_dim,hidden_dim,n_layers,dropout=drop_prob,batch_first=True,bidirectional=True)\n",
        "    \n",
        "    # define a droput layer between fc layer and lstm output.\n",
        "    self.dropout=nn.Dropout(drop_prob)\n",
        "    \n",
        "    # final output/ final hidden state(hidden_state[0]) is passed through a fc layer to get desired output.\n",
        "    self.feed_forward=nn.Sequential(nn.Linear(hidden_dim,5),nn.ReLU(),nn.Linear(5,1),nn.Sigmoid())\n",
        "    # define multihead attention layer.\n",
        "    self.multihead_attn=nn.MultiheadAttention(hidden_dim, 10)\n",
        "    \n",
        "  def forward(self,x,hidden):\n",
        "\n",
        "    out,hidden=self.lstm(x,hidden)\n",
        "    # pass only final hidden state to feedforward network.\n",
        "    final_hidden=hidden[0].sum(axis=0)\n",
        "    output=self.feed_forward(final_hidden)\n",
        "      \n",
        "    return output*3\n",
        "\n",
        "  def init_hidden(self, batch_size):\n",
        "      ''' Initializes hidden state '''\n",
        "      # Create two new tensors with sizes n_layers x batch_size x hidden_dim,\n",
        "      # initialized to zero, for hidden state and cell state of LSTM\n",
        "      weight = next(self.parameters()).data\n",
        "\n",
        "      if (is_cuda):\n",
        "          hidden = (weight.new(self.n_layers*2, batch_size, self.hidden_dim).zero_().cuda(),\n",
        "                weight.new(self.n_layers*2, batch_size, self.hidden_dim).zero_().cuda())\n",
        "      else:\n",
        "          hidden = (weight.new(self.n_layers*2, batch_size, self.hidden_dim).zero_(),\n",
        "                    weight.new(self.n_layers*2, batch_size, self.hidden_dim).zero_())\n",
        "\n",
        "      return hidden"
      ],
      "execution_count": 0,
      "outputs": []
    },
    {
      "cell_type": "code",
      "metadata": {
        "id": "G8ANfB3bfNJ4",
        "colab_type": "code",
        "colab": {}
      },
      "source": [
        "def train_validate(epochs,lr,hidden_dim,n_layers,dropout,print_every=200):\n",
        "  \"\"\"\n",
        "  trains the model and validates it. Prints out a graph \n",
        "  of train and validation loss to help tune hyperparams.\n",
        "  Here we've chosen to tune just the learning rate and hidden dimension and number of layers(of the lstm).\n",
        "  \"\"\"\n",
        "  \n",
        "  input_dim=X_train.shape[2]\n",
        "  model=humour_model(input_dim,hidden_dim,n_layers,dropout)  \n",
        "\n",
        "  criterion = nn.MSELoss()\n",
        "  optimizer = torch.optim.Adam(model.parameters(), lr=lr)\n",
        "  scheduler=torch.optim.lr_scheduler.ExponentialLR(optimizer, gamma=2, last_epoch=-1) \n",
        "\n",
        "  counter = 0\n",
        "  print_every = print_every\n",
        "  clip=5 # gradient clipping\n",
        "\n",
        "  # move model to GPU, if available\n",
        "  if(is_cuda):\n",
        "      model.cuda()\n",
        "\n",
        "  model.train()\n",
        "  x=[]\n",
        "  y_val=[]\n",
        "  y_train=[]\n",
        "  for i in range(epochs):\n",
        "    h = model.init_hidden(batch_size)\n",
        "    \n",
        "    # train_losses=[]\n",
        "    for inputs, labels in train_loader:\n",
        "        counter += 1\n",
        "\n",
        "        if(is_cuda):\n",
        "            inputs, labels = inputs.cuda(), labels.cuda()\n",
        "\n",
        "        # Creating new variables for the hidden state, otherwise\n",
        "        # we'd backprop through the entire training history\n",
        "        h = tuple([each.data for each in h])\n",
        "        model.zero_grad()\n",
        "\n",
        "        # get the output from the model.\n",
        "        output=model.forward(inputs,h)\n",
        "      \n",
        "        # loss and backprop.\n",
        "        loss = torch.sqrt(criterion(output.squeeze(), labels))\n",
        "        loss.backward()\n",
        "\n",
        "         # clip to prevent exploding gradients.\n",
        "        nn.utils.clip_grad_norm_(model.parameters(), clip)\n",
        "        optimizer.step()              \n",
        "    \n",
        "    # loss stats\n",
        "      \n",
        "        if counter % print_every == 0:\n",
        "            with torch.no_grad():\n",
        "              # Get validation loss\n",
        "              x.append(counter)\n",
        "              val_h = model.init_hidden(batch_size)\n",
        "              val_losses = []\n",
        "              model.eval() # putting model to test mode. \n",
        "              for inputs, labels in val_loader:\n",
        "\n",
        "                  val_h = tuple([each.data for each in val_h])\n",
        "\n",
        "                  if(is_cuda):\n",
        "                      inputs, labels = inputs.cuda(), labels.cuda()\n",
        "\n",
        "                  output=model.forward(inputs,h)\n",
        "                  \n",
        "                  val_loss = torch.sqrt(criterion(output.squeeze(), labels))\n",
        "\n",
        "                  val_losses.append(val_loss.item())\n",
        "\n",
        "              # bring model back to training mode. \n",
        "              print(\"Epoch: {}/{}...\".format(i+1, epochs),\n",
        "                    \"Step: {}...\".format(counter),\n",
        "                    \"Loss: {:.6f}...\".format(loss.item()),\n",
        "                    \"Val Loss: {:.6f}\".format(np.mean(val_losses)))\n",
        "              \n",
        "              y_val.append(np.mean(val_losses))\n",
        "              y_train.append(loss.item())\n",
        "            model.train() \n",
        "            # train_losses=[]\n",
        "    # if (i+1)%20==0:\n",
        "    #   scheduler.step()          \n",
        "  print(\"The graph for lr={}, hidden_dim={}, n_layers={},drop_out rate={} is \".format(lr,hidden_dim,n_layers,dropout))\n",
        "  plt.plot(x,y_train,label='Train loss')\n",
        "  plt.plot(x,y_val,label='Val Loss')\n",
        "  plt.xlabel('No of mini batch passes')\n",
        "  plt.ylabel('loss')\n",
        "  plt.legend()\n",
        "  plt.show()\n",
        "\n",
        "  # plt.xlabel('No of mini batch passes')\n",
        "  # plt.ylabel('Train loss')\n",
        "  # plt.show()  \n",
        "    \n"
      ],
      "execution_count": 0,
      "outputs": []
    },
    {
      "cell_type": "markdown",
      "metadata": {
        "id": "GZ3fGJ84wlY6",
        "colab_type": "text"
      },
      "source": [
        "### ***HYPERPARAMETER SEARCH***"
      ]
    },
    {
      "cell_type": "code",
      "metadata": {
        "id": "GwqhDArYoVhP",
        "colab_type": "code",
        "colab": {
          "base_uri": "https://localhost:8080/",
          "height": 551
        },
        "outputId": "3ad1349e-3540-4bbc-f318-b7026004bd0b"
      },
      "source": [
        "train_validate(30,1e-4,100,1)"
      ],
      "execution_count": 20,
      "outputs": [
        {
          "output_type": "stream",
          "text": [
            "Epoch: 2/30... Step: 200... Loss: 0.575690... Val Loss: 0.598607\n",
            "Epoch: 4/30... Step: 400... Loss: 0.532257... Val Loss: 0.593273\n",
            "Epoch: 6/30... Step: 600... Loss: 0.635264... Val Loss: 0.595051\n",
            "Epoch: 8/30... Step: 800... Loss: 0.530171... Val Loss: 0.591991\n",
            "Epoch: 10/30... Step: 1000... Loss: 0.461611... Val Loss: 0.619962\n",
            "Epoch: 12/30... Step: 1200... Loss: 0.446515... Val Loss: 0.600526\n",
            "Epoch: 14/30... Step: 1400... Loss: 0.572673... Val Loss: 0.605317\n",
            "Epoch: 16/30... Step: 1600... Loss: 0.451268... Val Loss: 0.614098\n",
            "Epoch: 18/30... Step: 1800... Loss: 0.448553... Val Loss: 0.616471\n",
            "Epoch: 20/30... Step: 2000... Loss: 0.396569... Val Loss: 0.630658\n",
            "Epoch: 21/30... Step: 2200... Loss: 0.318706... Val Loss: 0.642979\n",
            "Epoch: 23/30... Step: 2400... Loss: 0.366103... Val Loss: 0.657552\n",
            "Epoch: 25/30... Step: 2600... Loss: 0.335294... Val Loss: 0.645301\n",
            "Epoch: 27/30... Step: 2800... Loss: 0.357035... Val Loss: 0.661590\n",
            "Epoch: 29/30... Step: 3000... Loss: 0.254458... Val Loss: 0.660015\n",
            "The graph for lr=0.0001, hidden_dim=100, n_layers=1 is \n"
          ],
          "name": "stdout"
        },
        {
          "output_type": "display_data",
          "data": {
            "image/png": "[encoded data removed]",
            "text/plain": [
              "<Figure size 432x288 with 1 Axes>"
            ]
          },
          "metadata": {
            "tags": []
          }
        }
      ]
    },
    {
      "cell_type": "code",
      "metadata": {
        "id": "g-G9s_WdpZXH",
        "colab_type": "code",
        "colab": {
          "base_uri": "https://localhost:8080/",
          "height": 551
        },
        "outputId": "2763619d-694f-4713-aa12-ca551caec6f0"
      },
      "source": [
        "train_validate(30,1e-5,100,1)"
      ],
      "execution_count": 21,
      "outputs": [
        {
          "output_type": "stream",
          "text": [
            "Epoch: 2/30... Step: 200... Loss: 0.766395... Val Loss: 0.747357\n",
            "Epoch: 4/30... Step: 400... Loss: 0.628450... Val Loss: 0.689536\n",
            "Epoch: 6/30... Step: 600... Loss: 0.666671... Val Loss: 0.637955\n",
            "Epoch: 8/30... Step: 800... Loss: 0.539176... Val Loss: 0.605850\n",
            "Epoch: 10/30... Step: 1000... Loss: 0.515474... Val Loss: 0.607119\n",
            "Epoch: 12/30... Step: 1200... Loss: 0.513623... Val Loss: 0.604685\n",
            "Epoch: 14/30... Step: 1400... Loss: 0.627524... Val Loss: 0.604414\n",
            "Epoch: 16/30... Step: 1600... Loss: 0.609393... Val Loss: 0.603509\n",
            "Epoch: 18/30... Step: 1800... Loss: 0.567272... Val Loss: 0.601637\n",
            "Epoch: 20/30... Step: 2000... Loss: 0.551852... Val Loss: 0.600381\n",
            "Epoch: 21/30... Step: 2200... Loss: 0.470458... Val Loss: 0.600060\n",
            "Epoch: 23/30... Step: 2400... Loss: 0.634687... Val Loss: 0.602515\n",
            "Epoch: 25/30... Step: 2600... Loss: 0.554670... Val Loss: 0.598130\n",
            "Epoch: 27/30... Step: 2800... Loss: 0.576327... Val Loss: 0.600625\n",
            "Epoch: 29/30... Step: 3000... Loss: 0.501408... Val Loss: 0.598772\n",
            "The graph for lr=1e-05, hidden_dim=100, n_layers=1 is \n"
          ],
          "name": "stdout"
        },
        {
          "output_type": "display_data",
          "data": {
            "image/png": "[encoded data removed]",
            "text/plain": [
              "<Figure size 432x288 with 1 Axes>"
            ]
          },
          "metadata": {
            "tags": []
          }
        }
      ]
    },
    {
      "cell_type": "code",
      "metadata": {
        "id": "ECQSCGGzv2WV",
        "colab_type": "code",
        "colab": {
          "base_uri": "https://localhost:8080/",
          "height": 551
        },
        "outputId": "2ed557c4-f723-4fc1-dbe9-d8634c666e50"
      },
      "source": [
        "train_validate(30,4e-5,100,1)"
      ],
      "execution_count": 22,
      "outputs": [
        {
          "output_type": "stream",
          "text": [
            "Epoch: 2/30... Step: 200... Loss: 0.597252... Val Loss: 0.606287\n",
            "Epoch: 4/30... Step: 400... Loss: 0.536727... Val Loss: 0.597267\n",
            "Epoch: 6/30... Step: 600... Loss: 0.634742... Val Loss: 0.601369\n",
            "Epoch: 8/30... Step: 800... Loss: 0.536007... Val Loss: 0.596346\n",
            "Epoch: 10/30... Step: 1000... Loss: 0.501413... Val Loss: 0.598637\n",
            "Epoch: 12/30... Step: 1200... Loss: 0.494493... Val Loss: 0.594653\n",
            "Epoch: 14/30... Step: 1400... Loss: 0.621890... Val Loss: 0.592884\n",
            "Epoch: 16/30... Step: 1600... Loss: 0.556722... Val Loss: 0.593087\n",
            "Epoch: 18/30... Step: 1800... Loss: 0.512880... Val Loss: 0.592961\n",
            "Epoch: 20/30... Step: 2000... Loss: 0.521364... Val Loss: 0.593443\n",
            "Epoch: 21/30... Step: 2200... Loss: 0.447578... Val Loss: 0.601535\n",
            "Epoch: 23/30... Step: 2400... Loss: 0.519061... Val Loss: 0.601177\n",
            "Epoch: 25/30... Step: 2600... Loss: 0.533357... Val Loss: 0.599993\n",
            "Epoch: 27/30... Step: 2800... Loss: 0.541260... Val Loss: 0.602043\n",
            "Epoch: 29/30... Step: 3000... Loss: 0.430955... Val Loss: 0.608314\n",
            "The graph for lr=4e-05, hidden_dim=100, n_layers=1 is \n"
          ],
          "name": "stdout"
        },
        {
          "output_type": "display_data",
          "data": {
            "image/png": "[encoded data removed]",
            "text/plain": [
              "<Figure size 432x288 with 1 Axes>"
            ]
          },
          "metadata": {
            "tags": []
          }
        }
      ]
    },
    {
      "cell_type": "code",
      "metadata": {
        "id": "SZqAG9hbwJsn",
        "colab_type": "code",
        "colab": {
          "base_uri": "https://localhost:8080/",
          "height": 551
        },
        "outputId": "a756fdc1-ad0a-4964-c874-f31e8268efae"
      },
      "source": [
        "train_validate(30,1e-5,150,1)"
      ],
      "execution_count": 23,
      "outputs": [
        {
          "output_type": "stream",
          "text": [
            "Epoch: 2/30... Step: 200... Loss: 1.001508... Val Loss: 0.923290\n",
            "Epoch: 4/30... Step: 400... Loss: 0.836348... Val Loss: 0.840140\n",
            "Epoch: 6/30... Step: 600... Loss: 0.675542... Val Loss: 0.638860\n",
            "Epoch: 8/30... Step: 800... Loss: 0.660215... Val Loss: 0.607813\n",
            "Epoch: 10/30... Step: 1000... Loss: 0.562089... Val Loss: 0.609236\n",
            "Epoch: 12/30... Step: 1200... Loss: 0.639467... Val Loss: 0.598813\n",
            "Epoch: 14/30... Step: 1400... Loss: 0.623685... Val Loss: 0.602985\n",
            "Epoch: 16/30... Step: 1600... Loss: 0.607469... Val Loss: 0.600149\n",
            "Epoch: 18/30... Step: 1800... Loss: 0.576420... Val Loss: 0.598762\n",
            "Epoch: 20/30... Step: 2000... Loss: 0.559175... Val Loss: 0.599498\n",
            "Epoch: 21/30... Step: 2200... Loss: 0.539827... Val Loss: 0.596630\n",
            "Epoch: 23/30... Step: 2400... Loss: 0.594304... Val Loss: 0.595568\n",
            "Epoch: 25/30... Step: 2600... Loss: 0.557878... Val Loss: 0.595662\n",
            "Epoch: 27/30... Step: 2800... Loss: 0.625033... Val Loss: 0.594271\n",
            "Epoch: 29/30... Step: 3000... Loss: 0.580869... Val Loss: 0.596066\n",
            "The graph for lr=1e-05, hidden_dim=150, n_layers=1 is \n"
          ],
          "name": "stdout"
        },
        {
          "output_type": "display_data",
          "data": {
            "image/png": "[encoded data removed]",
            "text/plain": [
              "<Figure size 432x288 with 1 Axes>"
            ]
          },
          "metadata": {
            "tags": []
          }
        }
      ]
    },
    {
      "cell_type": "code",
      "metadata": {
        "id": "vXBbjKwy6Ec-",
        "colab_type": "code",
        "colab": {
          "base_uri": "https://localhost:8080/",
          "height": 551
        },
        "outputId": "23e99182-469e-4de4-aafb-0e1a817e6b61"
      },
      "source": [
        "train_validate(60,1e-5,50,1,400)"
      ],
      "execution_count": 29,
      "outputs": [
        {
          "output_type": "stream",
          "text": [
            "Epoch: 4/60... Step: 400... Loss: 0.960719... Val Loss: 0.920333\n",
            "Epoch: 8/60... Step: 800... Loss: 0.952494... Val Loss: 0.916436\n",
            "Epoch: 12/60... Step: 1200... Loss: 0.907691... Val Loss: 0.910395\n",
            "Epoch: 16/60... Step: 1600... Loss: 0.930974... Val Loss: 0.897145\n",
            "Epoch: 20/60... Step: 2000... Loss: 0.849256... Val Loss: 0.881837\n",
            "Epoch: 23/60... Step: 2400... Loss: 0.836394... Val Loss: 0.838230\n",
            "Epoch: 27/60... Step: 2800... Loss: 0.682041... Val Loss: 0.754888\n",
            "Epoch: 31/60... Step: 3200... Loss: 0.617096... Val Loss: 0.696001\n",
            "Epoch: 35/60... Step: 3600... Loss: 0.696301... Val Loss: 0.655757\n",
            "Epoch: 39/60... Step: 4000... Loss: 0.566630... Val Loss: 0.632410\n",
            "Epoch: 42/60... Step: 4400... Loss: 0.601260... Val Loss: 0.619903\n",
            "Epoch: 46/60... Step: 4800... Loss: 0.481403... Val Loss: 0.607814\n",
            "Epoch: 50/60... Step: 5200... Loss: 0.578510... Val Loss: 0.602203\n",
            "Epoch: 54/60... Step: 5600... Loss: 0.558014... Val Loss: 0.598048\n",
            "Epoch: 58/60... Step: 6000... Loss: 0.588306... Val Loss: 0.599305\n",
            "The graph for lr=1e-05, hidden_dim=50, n_layers=1 is \n"
          ],
          "name": "stdout"
        },
        {
          "output_type": "display_data",
          "data": {
            "image/png": "[encoded data removed]",
            "text/plain": [
              "<Figure size 432x288 with 1 Axes>"
            ]
          },
          "metadata": {
            "tags": []
          }
        }
      ]
    },
    {
      "cell_type": "markdown",
      "metadata": {
        "id": "DMA2FkC8b-SO",
        "colab_type": "text"
      },
      "source": [
        "Inferences from hyperparameter tuning:\n",
        "1. For batch size of 64, having a learning rate of 1e-4 results in overfitting.\n",
        "2. Learning rate of 1e-5 fixes this.\n",
        "3. Reducing hidden dimension makes network start of with a higher val and train loss but it eventually plateus to around 0.59. \n",
        "4. in fact any model which is generalsing well gives us a best validation loss of 0.59.\n",
        "5. Increasing number of layers of lstm just makes it reach a loss of 0.59 earlier and it platues after that."
      ]
    }
  ]
}