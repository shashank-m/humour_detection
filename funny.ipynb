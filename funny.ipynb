{
  "nbformat": 4,
  "nbformat_minor": 0,
  "metadata": {
    "colab": {
      "name": "funny.ipynb",
      "provenance": [],
      "collapsed_sections": [],
      "include_colab_link": true
    },
    "kernelspec": {
      "name": "python3",
      "display_name": "Python 3"
    },
    "accelerator": "GPU"
  },
  "cells": [
    {
      "cell_type": "markdown",
      "metadata": {
        "id": "view-in-github",
        "colab_type": "text"
      },
      "source": [
        "<a href=\"https://colab.research.google.com/github/shashank-m/humour_detection/blob/master/funny.ipynb\" target=\"_parent\"><img src=\"https://colab.research.google.com/assets/colab-badge.svg\" alt=\"Open In Colab\"/></a>"
      ]
    },
    {
      "cell_type": "code",
      "metadata": {
        "id": "RDg-4zou8TTH",
        "colab_type": "code",
        "colab": {}
      },
      "source": [
        "import pandas as pd\n",
        "import numpy as np\n"
      ],
      "execution_count": 0,
      "outputs": []
    },
    {
      "cell_type": "code",
      "metadata": {
        "id": "h9i160R9iq0S",
        "colab_type": "code",
        "outputId": "96d888fd-ecc0-419a-d79f-35b279c45494",
        "colab": {
          "base_uri": "https://localhost:8080/",
          "height": 122
        }
      },
      "source": [
        "from google.colab import drive\n",
        "drive.mount('/content/gdrive')"
      ],
      "execution_count": 0,
      "outputs": [
        {
          "output_type": "stream",
          "text": [
            "Go to this URL in a browser: https://accounts.google.com/o/oauth2/auth?client_id=947318989803-6bn6qk8qdgf4n4g3pfee6491hc0brc4i.apps.googleusercontent.com&redirect_uri=urn%3aietf%3awg%3aoauth%3a2.0%3aoob&response_type=code&scope=email%20https%3a%2f%2fwww.googleapis.com%2fauth%2fdocs.test%20https%3a%2f%2fwww.googleapis.com%2fauth%2fdrive%20https%3a%2f%2fwww.googleapis.com%2fauth%2fdrive.photos.readonly%20https%3a%2f%2fwww.googleapis.com%2fauth%2fpeopleapi.readonly\n",
            "\n",
            "Enter your authorization code:\n",
            "··········\n",
            "Mounted at /content/gdrive\n"
          ],
          "name": "stdout"
        }
      ]
    },
    {
      "cell_type": "code",
      "metadata": {
        "id": "_G-jlOpLjKGg",
        "colab_type": "code",
        "outputId": "a82cd2cf-00d8-47ae-cd1a-655dbeb4230c",
        "colab": {
          "base_uri": "https://localhost:8080/",
          "height": 34
        }
      },
      "source": [
        "!ls /content/gdrive/'My Drive'/'Colab Notebooks'/humour/\n"
      ],
      "execution_count": 0,
      "outputs": [
        {
          "output_type": "stream",
          "text": [
            "funny.ipynb  funny.py  glove.6B.100d.txt  glove.6B.200d.txt  task-1\n"
          ],
          "name": "stdout"
        }
      ]
    },
    {
      "cell_type": "code",
      "metadata": {
        "id": "O3N5OuD7iSZx",
        "colab_type": "code",
        "outputId": "23b8d2dd-d71a-44b3-9471-42cba54019f9",
        "colab": {
          "base_uri": "https://localhost:8080/",
          "height": 187
        }
      },
      "source": [
        "\n",
        "import pandas as  pd\n",
        "import numpy as np \n",
        "import time\n",
        "\n",
        "alpha=0\n",
        "df=pd.read_csv('/content/gdrive/My Drive/Colab Notebooks/humour/task-1/train.csv')\n",
        "print(df.describe())\n",
        "start=time.time()\n",
        "data_list=[]\n",
        "for row in df.itertuples():\n",
        "    score=row[-1]\n",
        "    new_word=row[3]\n",
        "    original_headline=row[2]\n",
        "    replaced_word=row[2].split('<')[1].split('>')[0].split('/')[0]\n",
        "    list_of_words=original_headline.split()\n",
        "    original_list_of_words=list_of_words\n",
        "    \n",
        "    for i,word in enumerate(list_of_words):\n",
        "        if(word[0]=='<' and word[-1]=='>'):\n",
        "            alpha=1\n",
        "            pos_of_replaced_word=i\n",
        "            break\n",
        "        if (word[0]=='<'and word[-1]!='>'):\n",
        "            alpha=-1\n",
        "            try:\n",
        "                token=i-1\n",
        "                pop_1=token+1   \n",
        "                break\n",
        "            except:\n",
        "                # word in beginning\n",
        "                pop_1=i \n",
        "                break\n",
        "    if alpha==1:\n",
        "        list_of_words[pos_of_replaced_word]=new_word\n",
        "    if alpha==-1:\n",
        "        list_of_words.remove(list_of_words[pop_1])\n",
        "        list_of_words.remove(list_of_words[pop_1])\n",
        "        list_of_words.insert(pop_1,new_word)\n",
        "           \n",
        "    edited_headline=' '.join(list_of_words)\n",
        "    \n",
        "    tup=(replaced_word,original_headline.split(),list_of_words,new_word,score)\n",
        "    data_list.append(tup)\n",
        "    \n",
        "    \n",
        "        \n",
        "\n",
        "print('Time taken is {} seconds'.format(time.time()-start))"
      ],
      "execution_count": 0,
      "outputs": [
        {
          "output_type": "stream",
          "text": [
            "                 id        grades    meanGrade\n",
            "count   9652.000000  9.652000e+03  9652.000000\n",
            "mean    7539.845213  2.048111e+11     0.935571\n",
            "std     4359.342192  8.211835e+12     0.583643\n",
            "min        1.000000  0.000000e+00     0.000000\n",
            "25%     3756.750000  1.110000e+04     0.400000\n",
            "50%     7510.500000  2.111000e+04     0.800000\n",
            "75%    11325.250000  3.210000e+04     1.400000\n",
            "max    15095.000000  3.333332e+14     3.000000\n",
            "Time taken is 0.06829357147216797 seconds\n"
          ],
          "name": "stdout"
        }
      ]
    },
    {
      "cell_type": "code",
      "metadata": {
        "id": "ODnUekiQj2s1",
        "colab_type": "code",
        "colab": {}
      },
      "source": [
        "# encode sentences.\n",
        "\n",
        "word_embeddings = {}\n",
        "f = open('/content/gdrive/My Drive/Colab Notebooks/humour/glove.6B.200d.txt', encoding='utf-8')\n",
        "for line in f:\n",
        "    values=line.split()\n",
        "    word=values[0]\n",
        "    embedding_for_word = np.asarray(values[1:], dtype='float64')\n",
        "    word_embeddings[word]=embedding_for_word\n",
        "    \n"
      ],
      "execution_count": 0,
      "outputs": []
    },
    {
      "cell_type": "code",
      "metadata": {
        "id": "jhZ-q6OP9_bl",
        "colab_type": "code",
        "colab": {}
      },
      "source": [
        "# can use fast Text for encoding."
      ],
      "execution_count": 0,
      "outputs": []
    },
    {
      "cell_type": "code",
      "metadata": {
        "id": "ZltmPYkxqFVM",
        "colab_type": "code",
        "colab": {}
      },
      "source": [
        "\n",
        "import math\n",
        "\n",
        "# data format. replaced_word,original headline list,new headline list,new word.\n",
        "train=data_list[:math.floor(len(data_list)*0.8)]\n",
        "test=data_list[math.floor(len(data_list)*0.8):]\n",
        "\n",
        "def train_test_split(dataset):\n",
        "  train_sentences=[]\n",
        "\n",
        "  for data in dataset:\n",
        "    new_headline=data[2]\n",
        "    score=data[-1]\n",
        "    encoded_sentence=[]\n",
        "\n",
        "    # encode each edited headline\n",
        "    for word in new_headline:\n",
        "      try:\n",
        "        encoded_word=word_embeddings[word]\n",
        "        encoded_sentence.append(encoded_word)\n",
        "      except KeyError: # for out of vocabulary words.\n",
        "        encoded_word=np.random.randn(200)\n",
        "        encoded_sentence.append(encoded_word)\n",
        "\n",
        "    train_sentences.append((encoded_sentence,score))   \n",
        "\n",
        "  df=pd.DataFrame(train_sentences)\n",
        "  df.columns=['Encoded Sentence','Score']\n",
        "  X=df['Encoded Sentence']\n",
        "  Y=df['Score']\n",
        "  return X,Y\n",
        "X_train,Y_train=train_test_split(train)\n",
        "X_test,Y_test=train_test_split(test)\n",
        "\n",
        "\n",
        "\n",
        "  \n",
        " "
      ],
      "execution_count": 0,
      "outputs": []
    },
    {
      "cell_type": "code",
      "metadata": {
        "id": "Tqn3iSDDqYJW",
        "colab_type": "code",
        "colab": {}
      },
      "source": [
        "\n",
        "# pad sequences so that all sentences are of same length to pass into the lstm.\n",
        "# print(len(train[0][1]))\n",
        "def padding_zeros(X):\n",
        "  X_lengths=[ len(sentence) for sentence in X]\n",
        "  longest=max(X_lengths)\n",
        "  for i,encoded in enumerate(X):\n",
        "    length=len(encoded)\n",
        "    num_zero_arrays=longest-length\n",
        "    for zeros in range(num_zero_arrays):\n",
        "      X[i].append(np.zeros(200))\n",
        "  return X\n",
        "X_train=padding_zeros(X_train)\n",
        "X_test=padding_zeros(X_test)\n",
        "\n"
      ],
      "execution_count": 0,
      "outputs": []
    },
    {
      "cell_type": "code",
      "metadata": {
        "id": "AUMyPCdkSiXJ",
        "colab_type": "code",
        "colab": {}
      },
      "source": [
        "\n",
        "\n",
        "#convert series to array:\n",
        "def series_to_array(X,Y):\n",
        "  X_t=[]\n",
        "  for encoded in X:\n",
        "    arr=np.asarray(encoded)\n",
        "  #   arr=np.transpose(arr)\n",
        "    # arr is the 2d array with shape (max_seq_length,200). Each row is a glove vector of a word.\n",
        "    X_t.append(arr)\n",
        "\n",
        "  X_t=np.asarray(X_t)\n",
        "  Y_t=np.asarray(Y)\n",
        "  return X_t,Y_t\n",
        "X_train,Y_train=series_to_array(X_train,Y_train)\n",
        "X_test,Y_test=series_to_array(X_test,Y_test)\n",
        "\n",
        "# test_examples=X_test.shape[0]\n",
        "# X_val=X_test[:int(test_examples/2)]\n",
        "# Y_val=Y_test[:int(test_examples/2)]\n",
        "\n",
        "# X_TEST=X_test[int(test_examples/2):]\n",
        "# Y_TEST=Y_test[int(test_examples/2):]\n",
        "\n",
        "\n",
        "#X_t has m 200,max_seq_length arrays. where m is number of training examples.\n"
      ],
      "execution_count": 0,
      "outputs": []
    },
    {
      "cell_type": "code",
      "metadata": {
        "id": "yeligjcVSfTw",
        "colab_type": "code",
        "outputId": "e7c0b3a5-278b-4e31-9b69-fa8d7e9063e5",
        "colab": {
          "base_uri": "https://localhost:8080/",
          "height": 34
        }
      },
      "source": [
        "import torch\n",
        "import torch.nn as nn\n",
        "from torch.autograd import Variable\n",
        "from torch.nn import functional as F\n",
        "from torch.utils.data import TensorDataset, DataLoader\n",
        "torch.manual_seed(1)"
      ],
      "execution_count": 0,
      "outputs": [
        {
          "output_type": "execute_result",
          "data": {
            "text/plain": [
              "<torch._C.Generator at 0x7f9b277087d0>"
            ]
          },
          "metadata": {
            "tags": []
          },
          "execution_count": 9
        }
      ]
    },
    {
      "cell_type": "code",
      "metadata": {
        "id": "-udGYcRD4MjF",
        "colab_type": "code",
        "outputId": "cfb6782d-f800-4ed3-8dd8-73ae96329786",
        "colab": {
          "base_uri": "https://localhost:8080/",
          "height": 34
        }
      },
      "source": [
        "is_cuda = torch.cuda.is_available()\n",
        "if is_cuda:\n",
        "    device = torch.device(\"cuda\")\n",
        "    print(\"GPU is available\")\n",
        "else:\n",
        "    device = torch.device(\"cpu\")\n",
        "    print(\"GPU not available, CPU used\")"
      ],
      "execution_count": 0,
      "outputs": [
        {
          "output_type": "stream",
          "text": [
            "GPU is available\n"
          ],
          "name": "stdout"
        }
      ]
    },
    {
      "cell_type": "code",
      "metadata": {
        "id": "4IH9Krqib05T",
        "colab_type": "code",
        "outputId": "4e82f255-9914-4f7f-f90a-b55cc4107316",
        "colab": {
          "base_uri": "https://localhost:8080/",
          "height": 153
        }
      },
      "source": [
        "#create batches using TensorDataset and Dataloader.\n",
        "batch_size=64\n",
        "train_data=TensorDataset(torch.from_numpy(X_train).float(),(torch.from_numpy(Y_train)).float())\n",
        "train_loader=DataLoader(train_data,batch_size=batch_size,shuffle=True,drop_last=True)\n",
        "\n",
        "# val_data=TensorDataset(torch.from_numpy(X_val).float(),(torch.from_numpy(Y_val)).float())\n",
        "# val_loader=DataLoader(val_data,batch_size=batch_size,shuffle=True,drop_last=True)\n",
        "\n",
        "test_data=TensorDataset(torch.from_numpy(X_test).float(),(torch.from_numpy(Y_test)).float())\n",
        "test_loader=DataLoader(test_data,batch_size=batch_size,shuffle=True,drop_last=True)\n",
        "\n",
        "data_iter=iter(train_loader)\n",
        "sample_x,sample_y=data_iter.next()\n",
        "print(sample_x[31])\n",
        "print(sample_y.type())\n",
        "# print(int(X_trai"
      ],
      "execution_count": 0,
      "outputs": [
        {
          "output_type": "stream",
          "text": [
            "tensor([[ 1.5817,  1.2859, -0.7280,  ..., -0.9252,  0.5121, -0.1103],\n",
            "        [-1.5280, -1.2662,  0.5615,  ..., -1.8247, -1.1812,  0.2123],\n",
            "        [ 0.3769, -0.1656, -1.4470,  ..., -1.7291,  0.8613,  0.4487],\n",
            "        ...,\n",
            "        [ 0.0000,  0.0000,  0.0000,  ...,  0.0000,  0.0000,  0.0000],\n",
            "        [ 0.0000,  0.0000,  0.0000,  ...,  0.0000,  0.0000,  0.0000],\n",
            "        [ 0.0000,  0.0000,  0.0000,  ...,  0.0000,  0.0000,  0.0000]])\n",
            "torch.FloatTensor\n"
          ],
          "name": "stdout"
        }
      ]
    },
    {
      "cell_type": "code",
      "metadata": {
        "id": "9iHP40KUETFF",
        "colab_type": "code",
        "colab": {}
      },
      "source": [
        "\n",
        "# build lstm.\n",
        "class humour_model(nn.Module):\n",
        "  \n",
        "  \n",
        "  def __init__(self,input_dim,hidden_dim,n_layers,drop_prob=0.2):\n",
        "    super(humour_model, self).__init__()\n",
        "    self.input_dim=input_dim\n",
        "    self.hidden_dim=hidden_dim\n",
        "    self.n_layers=n_layers\n",
        "    \n",
        "    \n",
        "    # lstm layer.\n",
        "    self.lstm=nn.LSTM(self.input_dim,hidden_dim,n_layers,dropout=drop_prob,batch_first=True,bidirectional=True)\n",
        "    \n",
        "    # define a droput layer between fc layer and lstm output.\n",
        "    self.dropout=nn.Dropout(drop_prob)\n",
        "    \n",
        "    # final output/ final hidden state(hidden_state[0]) is passed through a fc layer to get desired output.\n",
        "    self.feed_forward=nn.Sequential(nn.Linear(hidden_dim,50),nn.ReLU(),self.dropout,nn.Linear(50,1),nn.Sigmoid())\n",
        "    \n",
        "    \n",
        "  def forward(self,x,hidden):\n",
        "\n",
        "    out,hidden=self.lstm(x,hidden)\n",
        "\n",
        "    # pass only final hidden state to feedforward network.\n",
        "    final_hidden=hidden[0][self.n_layers*2 - 1]\n",
        "    \n",
        "    \n",
        "    \n",
        "    output=self.feed_forward(final_hidden)\n",
        "      \n",
        "    return output*3\n",
        "\n",
        "  def init_hidden(self, batch_size):\n",
        "      ''' Initializes hidden state '''\n",
        "      # Create two new tensors with sizes n_layers x batch_size x hidden_dim,\n",
        "      # initialized to zero, for hidden state and cell state of LSTM\n",
        "      weight = next(self.parameters()).data\n",
        "\n",
        "      if (is_cuda):\n",
        "          hidden = (weight.new(self.n_layers*2, batch_size, self.hidden_dim).zero_().cuda(),\n",
        "                weight.new(self.n_layers*2, batch_size, self.hidden_dim).zero_().cuda())\n",
        "      else:\n",
        "          hidden = (weight.new(self.n_layers*2, batch_size, self.hidden_dim).zero_(),\n",
        "                    weight.new(self.n_layers*2, batch_size, self.hidden_dim).zero_())\n",
        "\n",
        "      return hidden\n",
        "\n",
        "      \n",
        "\n",
        "  \n",
        "  \n",
        "  \n",
        "  "
      ],
      "execution_count": 0,
      "outputs": []
    },
    {
      "cell_type": "code",
      "metadata": {
        "id": "wjiA4jbQ4SQc",
        "colab_type": "code",
        "outputId": "48402621-9aeb-47ae-ed90-3ffe9b73b888",
        "colab": {
          "base_uri": "https://localhost:8080/",
          "height": 170
        }
      },
      "source": [
        "\n",
        "# instanstiate model\n",
        "hidden_dim=100\n",
        "input_dim=X_train.shape[2]\n",
        "n_layers=2\n",
        "model=humour_model(input_dim,hidden_dim,n_layers)    \n",
        "print(next(model.parameters()))"
      ],
      "execution_count": 0,
      "outputs": [
        {
          "output_type": "stream",
          "text": [
            "Parameter containing:\n",
            "tensor([[-0.0591, -0.0296,  0.0201,  ..., -0.0235,  0.0477, -0.0569],\n",
            "        [ 0.0025, -0.0044, -0.0621,  ...,  0.0720, -0.0111,  0.0496],\n",
            "        [ 0.0342, -0.0902,  0.0397,  ...,  0.0481,  0.0512,  0.0317],\n",
            "        ...,\n",
            "        [-0.0377,  0.0883,  0.0945,  ...,  0.0949,  0.0474, -0.0789],\n",
            "        [ 0.0130, -0.0261,  0.0842,  ..., -0.0679, -0.0930, -0.0572],\n",
            "        [-0.0513, -0.0912,  0.0200,  ...,  0.0429, -0.0256,  0.0332]],\n",
            "       requires_grad=True)\n"
          ],
          "name": "stdout"
        }
      ]
    },
    {
      "cell_type": "code",
      "metadata": {
        "id": "NUQ8u64F29Zy",
        "colab_type": "code",
        "colab": {}
      },
      "source": [
        "\n",
        "\n",
        "lr=0.00001\n",
        "\n",
        "criterion = nn.MSELoss()\n",
        "optimizer = torch.optim.Adam(model.parameters(), lr=lr)"
      ],
      "execution_count": 0,
      "outputs": []
    },
    {
      "cell_type": "code",
      "metadata": {
        "id": "NGAQIP1N3Mku",
        "colab_type": "code",
        "outputId": "c6a0243e-7d9f-4409-fe56-1fb031a77457",
        "colab": {
          "base_uri": "https://localhost:8080/",
          "height": 687
        }
      },
      "source": [
        "\n",
        "# training loop.\n",
        "import matplotlib.pyplot as plt\n",
        "epochs = 20\n",
        "counter = 0\n",
        "print_every = 100\n",
        "clip=5 # gradient clipping\n",
        "\n",
        "# move model to GPU, if available\n",
        "if(is_cuda):\n",
        "    model.cuda()\n",
        "\n",
        "model.train()\n",
        "x=[]\n",
        "y=[]\n",
        "y_train=[]\n",
        "for i in range(epochs):\n",
        "  h = model.init_hidden(batch_size)\n",
        "  \n",
        "  # train_losses=[]\n",
        "  for inputs, labels in train_loader:\n",
        "      counter += 1\n",
        "\n",
        "      if(is_cuda):\n",
        "          inputs, labels = inputs.cuda(), labels.cuda()\n",
        "\n",
        "      # Creating new variables for the hidden state, otherwise\n",
        "      # we'd backprop through the entire training history\n",
        "      h = tuple([each.data for each in h])\n",
        "      model.zero_grad()\n",
        "\n",
        "      # get the output from the model\n",
        "      output=model.forward(inputs,h)\n",
        "    \n",
        "      # calculate the loss and perform backprop\n",
        "      loss = torch.sqrt(criterion(output.squeeze(), labels))\n",
        "      loss.backward()\n",
        "      # train_losses.append(loss.item())\n",
        "\n",
        "      # `clip_grad_norm` helps prevent the exploding gradient problem in RNNs / LSTMs.\n",
        "      nn.utils.clip_grad_norm_(model.parameters(), clip)\n",
        "      optimizer.step()              \n",
        "  \n",
        "  # loss stats\n",
        "      if counter % print_every == 0:\n",
        "          # Get validation loss\n",
        "          x.append(counter)\n",
        "          val_h = model.init_hidden(batch_size)\n",
        "          val_losses = []\n",
        "          model.eval() # putting model to test mode. \n",
        "          for inputs, labels in test_loader:\n",
        "\n",
        "              val_h = tuple([each.data for each in val_h])\n",
        "\n",
        "              if(is_cuda):\n",
        "                  inputs, labels = inputs.cuda(), labels.cuda()\n",
        "\n",
        "              output=model.forward(inputs,h)\n",
        "              \n",
        "              val_loss = torch.sqrt(criterion(output.squeeze(), labels))\n",
        "\n",
        "              val_losses.append(val_loss.item())\n",
        "\n",
        "          model.train() # bring model back to training mode. \n",
        "          print(\"Epoch: {}/{}...\".format(i+1, epochs),\n",
        "                \"Step: {}...\".format(counter),\n",
        "                \"Loss: {:.6f}...\".format(loss.item()),\n",
        "                \"Val Loss: {:.6f}\".format(np.mean(val_losses)))\n",
        "          \n",
        "          y.append(np.mean(val_losses))\n",
        "          y_train.append(loss.item())\n",
        "          # train_losses=[]\n",
        "plt.plot(x,y)\n",
        "plt.plot(x,y_train)\n",
        "plt.xlabel('No of mini batch passes')\n",
        "plt.ylabel('loss')\n",
        "plt.show()\n",
        "\n",
        "# plt.xlabel('No of mini batch passes')\n",
        "# plt.ylabel('Train loss')\n",
        "# plt.show()\n",
        "      "
      ],
      "execution_count": 0,
      "outputs": [
        {
          "output_type": "stream",
          "text": [
            "Epoch: 1/20... Step: 100... Loss: 0.871665... Val Loss: 0.842924\n",
            "Epoch: 2/20... Step: 200... Loss: 0.964351... Val Loss: 0.829799\n",
            "Epoch: 3/20... Step: 300... Loss: 0.781885... Val Loss: 0.814991\n",
            "Epoch: 4/20... Step: 400... Loss: 0.754069... Val Loss: 0.785963\n",
            "Epoch: 5/20... Step: 500... Loss: 0.642487... Val Loss: 0.717744\n",
            "Epoch: 5/20... Step: 600... Loss: 0.593968... Val Loss: 0.632630\n",
            "Epoch: 6/20... Step: 700... Loss: 0.611486... Val Loss: 0.611621\n",
            "Epoch: 7/20... Step: 800... Loss: 0.624541... Val Loss: 0.606848\n",
            "Epoch: 8/20... Step: 900... Loss: 0.563420... Val Loss: 0.605429\n",
            "Epoch: 9/20... Step: 1000... Loss: 0.579767... Val Loss: 0.601528\n",
            "Epoch: 10/20... Step: 1100... Loss: 0.560410... Val Loss: 0.601102\n",
            "Epoch: 10/20... Step: 1200... Loss: 0.601617... Val Loss: 0.600065\n",
            "Epoch: 11/20... Step: 1300... Loss: 0.646178... Val Loss: 0.597358\n",
            "Epoch: 12/20... Step: 1400... Loss: 0.600130... Val Loss: 0.595389\n",
            "Epoch: 13/20... Step: 1500... Loss: 0.524764... Val Loss: 0.596783\n",
            "Epoch: 14/20... Step: 1600... Loss: 0.632472... Val Loss: 0.596297\n",
            "Epoch: 15/20... Step: 1700... Loss: 0.553441... Val Loss: 0.594037\n",
            "Epoch: 15/20... Step: 1800... Loss: 0.606705... Val Loss: 0.594389\n",
            "Epoch: 16/20... Step: 1900... Loss: 0.525144... Val Loss: 0.594367\n",
            "Epoch: 17/20... Step: 2000... Loss: 0.558150... Val Loss: 0.594510\n",
            "Epoch: 18/20... Step: 2100... Loss: 0.532656... Val Loss: 0.593640\n",
            "Epoch: 19/20... Step: 2200... Loss: 0.604510... Val Loss: 0.593765\n",
            "Epoch: 20/20... Step: 2300... Loss: 0.477157... Val Loss: 0.592912\n",
            "Epoch: 20/20... Step: 2400... Loss: 0.593885... Val Loss: 0.593773\n"
          ],
          "name": "stdout"
        },
        {
          "output_type": "display_data",
          "data": {
            "image/png": "[encoded data removed]",
            "text/plain": [
              "<Figure size 432x288 with 1 Axes>"
            ]
          },
          "metadata": {
            "tags": []
          }
        }
      ]
    },
    {
      "cell_type": "code",
      "metadata": {
        "id": "SF4bMvpfOHfs",
        "colab_type": "code",
        "colab": {}
      },
      "source": [
        ""
      ],
      "execution_count": 0,
      "outputs": []
    }
  ]
}